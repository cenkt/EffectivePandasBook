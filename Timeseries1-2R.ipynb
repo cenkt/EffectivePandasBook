{
 "cells": [
  {
   "cell_type": "code",
   "execution_count": 1,
   "metadata": {
    "vscode": {
     "languageId": "r"
    }
   },
   "outputs": [
    {
     "name": "stderr",
     "output_type": "stream",
     "text": [
      "Registered S3 method overwritten by 'quantmod':\n",
      "  method            from\n",
      "  as.zoo.data.frame zoo \n",
      "\n",
      "\n",
      "Attaching package: 'tswge'\n",
      "\n",
      "\n",
      "The following object is masked from 'package:datasets':\n",
      "\n",
      "    uspop\n",
      "\n",
      "\n"
     ]
    }
   ],
   "source": [
    "library(tswge)\n",
    "# data()\n"
   ]
  },
  {
   "cell_type": "code",
   "execution_count": 2,
   "metadata": {
    "vscode": {
     "languageId": "r"
    }
   },
   "outputs": [],
   "source": [
    "data(dfw.2011)\n",
    "# write.csv(dfw.2011,file='dfw.2011.csv', row.names=FALSE)"
   ]
  },
  {
   "cell_type": "code",
   "execution_count": 3,
   "metadata": {
    "vscode": {
     "languageId": "r"
    }
   },
   "outputs": [
    {
     "data": {
      "text/html": [
       "<style>\n",
       ".list-inline {list-style: none; margin:0; padding: 0}\n",
       ".list-inline>li {display: inline-block}\n",
       ".list-inline>li:not(:last-child)::after {content: \"\\00b7\"; padding: 0 .5ex}\n",
       "</style>\n",
       "<ol class=list-inline><li>42.8</li><li>49.5</li><li>61.3</li><li>70.8</li><li>72.8</li><li>86.8</li><li>91.4</li><li>93.4</li><li>80</li><li>68.2</li><li>57.9</li><li>47.6</li><li>50.4</li><li>52.5</li><li>64.3</li><li>70.3</li><li>77.9</li><li>84.3</li><li>87.7</li><li>86.5</li><li>80</li><li>67</li><li>59.7</li><li>51.2</li><li>49.1</li><li>52</li><li>56.4</li><li>63</li><li>72.3</li><li>82.6</li><li>84.5</li><li>87.1</li><li>82.4</li><li>68.2</li><li>53.5</li><li>43.1</li><li>45.3</li><li>47</li><li>55.1</li><li>66.3</li><li>74.4</li><li>82.4</li><li>83.8</li><li>86.2</li><li>80.3</li><li>71.6</li><li>51.5</li><li>50.1</li><li>44.5</li><li>45.7</li><li>56.1</li><li>65.8</li><li>70.9</li><li>82.1</li><li>87.1</li><li>87.3</li><li>82.7</li><li>71.2</li><li>58.7</li><li>53.7</li><li>47</li><li>55.2</li><li>61.2</li><li>68.1</li><li>72.5</li><li>84</li><li>87.4</li><li>85.8</li><li>81.5</li><li>74.1</li><li>63.5</li><li>49.7</li><li>51.2</li><li>60.6</li><li>65.7</li><li>69.3</li><li>75.4</li><li>82.5</li><li>86.6</li><li>84.4</li><li>80.6</li><li>69.6</li><li>62.4</li><li>49.7</li><li>45.8</li><li>51.1</li><li>63.3</li><li>61.6</li><li>79</li><li>85.7</li><li>88.8</li><li>85.2</li><li>78.1</li><li>66.2</li><li>52.5</li><li>48.4</li><li>45.8</li><li>50.2</li><li>55</li><li>66</li><li>73.4</li><li>79.9</li><li>84.6</li><li>87.4</li><li>85.5</li><li>65.5</li><li>53.5</li><li>50</li><li>50.3</li><li>49.6</li><li>63.4</li><li>64.6</li><li>73.8</li><li>81.9</li><li>85.7</li><li>86</li><li>74.7</li><li>65</li><li>60.4</li><li>49</li></ol>\n"
      ],
      "text/latex": [
       "\\begin{enumerate*}\n",
       "\\item 42.8\n",
       "\\item 49.5\n",
       "\\item 61.3\n",
       "\\item 70.8\n",
       "\\item 72.8\n",
       "\\item 86.8\n",
       "\\item 91.4\n",
       "\\item 93.4\n",
       "\\item 80\n",
       "\\item 68.2\n",
       "\\item 57.9\n",
       "\\item 47.6\n",
       "\\item 50.4\n",
       "\\item 52.5\n",
       "\\item 64.3\n",
       "\\item 70.3\n",
       "\\item 77.9\n",
       "\\item 84.3\n",
       "\\item 87.7\n",
       "\\item 86.5\n",
       "\\item 80\n",
       "\\item 67\n",
       "\\item 59.7\n",
       "\\item 51.2\n",
       "\\item 49.1\n",
       "\\item 52\n",
       "\\item 56.4\n",
       "\\item 63\n",
       "\\item 72.3\n",
       "\\item 82.6\n",
       "\\item 84.5\n",
       "\\item 87.1\n",
       "\\item 82.4\n",
       "\\item 68.2\n",
       "\\item 53.5\n",
       "\\item 43.1\n",
       "\\item 45.3\n",
       "\\item 47\n",
       "\\item 55.1\n",
       "\\item 66.3\n",
       "\\item 74.4\n",
       "\\item 82.4\n",
       "\\item 83.8\n",
       "\\item 86.2\n",
       "\\item 80.3\n",
       "\\item 71.6\n",
       "\\item 51.5\n",
       "\\item 50.1\n",
       "\\item 44.5\n",
       "\\item 45.7\n",
       "\\item 56.1\n",
       "\\item 65.8\n",
       "\\item 70.9\n",
       "\\item 82.1\n",
       "\\item 87.1\n",
       "\\item 87.3\n",
       "\\item 82.7\n",
       "\\item 71.2\n",
       "\\item 58.7\n",
       "\\item 53.7\n",
       "\\item 47\n",
       "\\item 55.2\n",
       "\\item 61.2\n",
       "\\item 68.1\n",
       "\\item 72.5\n",
       "\\item 84\n",
       "\\item 87.4\n",
       "\\item 85.8\n",
       "\\item 81.5\n",
       "\\item 74.1\n",
       "\\item 63.5\n",
       "\\item 49.7\n",
       "\\item 51.2\n",
       "\\item 60.6\n",
       "\\item 65.7\n",
       "\\item 69.3\n",
       "\\item 75.4\n",
       "\\item 82.5\n",
       "\\item 86.6\n",
       "\\item 84.4\n",
       "\\item 80.6\n",
       "\\item 69.6\n",
       "\\item 62.4\n",
       "\\item 49.7\n",
       "\\item 45.8\n",
       "\\item 51.1\n",
       "\\item 63.3\n",
       "\\item 61.6\n",
       "\\item 79\n",
       "\\item 85.7\n",
       "\\item 88.8\n",
       "\\item 85.2\n",
       "\\item 78.1\n",
       "\\item 66.2\n",
       "\\item 52.5\n",
       "\\item 48.4\n",
       "\\item 45.8\n",
       "\\item 50.2\n",
       "\\item 55\n",
       "\\item 66\n",
       "\\item 73.4\n",
       "\\item 79.9\n",
       "\\item 84.6\n",
       "\\item 87.4\n",
       "\\item 85.5\n",
       "\\item 65.5\n",
       "\\item 53.5\n",
       "\\item 50\n",
       "\\item 50.3\n",
       "\\item 49.6\n",
       "\\item 63.4\n",
       "\\item 64.6\n",
       "\\item 73.8\n",
       "\\item 81.9\n",
       "\\item 85.7\n",
       "\\item 86\n",
       "\\item 74.7\n",
       "\\item 65\n",
       "\\item 60.4\n",
       "\\item 49\n",
       "\\end{enumerate*}\n"
      ],
      "text/markdown": [
       "1. 42.8\n",
       "2. 49.5\n",
       "3. 61.3\n",
       "4. 70.8\n",
       "5. 72.8\n",
       "6. 86.8\n",
       "7. 91.4\n",
       "8. 93.4\n",
       "9. 80\n",
       "10. 68.2\n",
       "11. 57.9\n",
       "12. 47.6\n",
       "13. 50.4\n",
       "14. 52.5\n",
       "15. 64.3\n",
       "16. 70.3\n",
       "17. 77.9\n",
       "18. 84.3\n",
       "19. 87.7\n",
       "20. 86.5\n",
       "21. 80\n",
       "22. 67\n",
       "23. 59.7\n",
       "24. 51.2\n",
       "25. 49.1\n",
       "26. 52\n",
       "27. 56.4\n",
       "28. 63\n",
       "29. 72.3\n",
       "30. 82.6\n",
       "31. 84.5\n",
       "32. 87.1\n",
       "33. 82.4\n",
       "34. 68.2\n",
       "35. 53.5\n",
       "36. 43.1\n",
       "37. 45.3\n",
       "38. 47\n",
       "39. 55.1\n",
       "40. 66.3\n",
       "41. 74.4\n",
       "42. 82.4\n",
       "43. 83.8\n",
       "44. 86.2\n",
       "45. 80.3\n",
       "46. 71.6\n",
       "47. 51.5\n",
       "48. 50.1\n",
       "49. 44.5\n",
       "50. 45.7\n",
       "51. 56.1\n",
       "52. 65.8\n",
       "53. 70.9\n",
       "54. 82.1\n",
       "55. 87.1\n",
       "56. 87.3\n",
       "57. 82.7\n",
       "58. 71.2\n",
       "59. 58.7\n",
       "60. 53.7\n",
       "61. 47\n",
       "62. 55.2\n",
       "63. 61.2\n",
       "64. 68.1\n",
       "65. 72.5\n",
       "66. 84\n",
       "67. 87.4\n",
       "68. 85.8\n",
       "69. 81.5\n",
       "70. 74.1\n",
       "71. 63.5\n",
       "72. 49.7\n",
       "73. 51.2\n",
       "74. 60.6\n",
       "75. 65.7\n",
       "76. 69.3\n",
       "77. 75.4\n",
       "78. 82.5\n",
       "79. 86.6\n",
       "80. 84.4\n",
       "81. 80.6\n",
       "82. 69.6\n",
       "83. 62.4\n",
       "84. 49.7\n",
       "85. 45.8\n",
       "86. 51.1\n",
       "87. 63.3\n",
       "88. 61.6\n",
       "89. 79\n",
       "90. 85.7\n",
       "91. 88.8\n",
       "92. 85.2\n",
       "93. 78.1\n",
       "94. 66.2\n",
       "95. 52.5\n",
       "96. 48.4\n",
       "97. 45.8\n",
       "98. 50.2\n",
       "99. 55\n",
       "100. 66\n",
       "101. 73.4\n",
       "102. 79.9\n",
       "103. 84.6\n",
       "104. 87.4\n",
       "105. 85.5\n",
       "106. 65.5\n",
       "107. 53.5\n",
       "108. 50\n",
       "109. 50.3\n",
       "110. 49.6\n",
       "111. 63.4\n",
       "112. 64.6\n",
       "113. 73.8\n",
       "114. 81.9\n",
       "115. 85.7\n",
       "116. 86\n",
       "117. 74.7\n",
       "118. 65\n",
       "119. 60.4\n",
       "120. 49\n",
       "\n",
       "\n"
      ],
      "text/plain": [
       "  [1] 42.8 49.5 61.3 70.8 72.8 86.8 91.4 93.4 80.0 68.2 57.9 47.6 50.4 52.5 64.3\n",
       " [16] 70.3 77.9 84.3 87.7 86.5 80.0 67.0 59.7 51.2 49.1 52.0 56.4 63.0 72.3 82.6\n",
       " [31] 84.5 87.1 82.4 68.2 53.5 43.1 45.3 47.0 55.1 66.3 74.4 82.4 83.8 86.2 80.3\n",
       " [46] 71.6 51.5 50.1 44.5 45.7 56.1 65.8 70.9 82.1 87.1 87.3 82.7 71.2 58.7 53.7\n",
       " [61] 47.0 55.2 61.2 68.1 72.5 84.0 87.4 85.8 81.5 74.1 63.5 49.7 51.2 60.6 65.7\n",
       " [76] 69.3 75.4 82.5 86.6 84.4 80.6 69.6 62.4 49.7 45.8 51.1 63.3 61.6 79.0 85.7\n",
       " [91] 88.8 85.2 78.1 66.2 52.5 48.4 45.8 50.2 55.0 66.0 73.4 79.9 84.6 87.4 85.5\n",
       "[106] 65.5 53.5 50.0 50.3 49.6 63.4 64.6 73.8 81.9 85.7 86.0 74.7 65.0 60.4 49.0"
      ]
     },
     "metadata": {},
     "output_type": "display_data"
    }
   ],
   "source": [
    "dfw.2011"
   ]
  },
  {
   "cell_type": "code",
   "execution_count": 4,
   "metadata": {
    "vscode": {
     "languageId": "r"
    }
   },
   "outputs": [
    {
     "data": {
      "image/png": "[encoded data removed]",
      "text/plain": [
       "plot without title"
      ]
     },
     "metadata": {
      "image/png": {
       "height": 480,
       "width": 660
      }
     },
     "output_type": "display_data"
    }
   ],
   "source": [
    "options(repr.plot.width = 11, repr.plot.height = 8)\n",
    "plot(dfw.2011,type=\"l\")"
   ]
  },
  {
   "cell_type": "code",
   "execution_count": 5,
   "metadata": {
    "vscode": {
     "languageId": "r"
    }
   },
   "outputs": [],
   "source": [
    "dfw.2011.ts = ts(dfw.2011,start= c(2011,1),frequency= 12)"
   ]
  },
  {
   "cell_type": "code",
   "execution_count": 6,
   "metadata": {
    "vscode": {
     "languageId": "r"
    }
   },
   "outputs": [
    {
     "data": {
      "text/html": [
       "<table class=\"dataframe\">\n",
       "<caption>A Time Series: 10 × 12</caption>\n",
       "<thead>\n",
       "\t<tr><th></th><th scope=col>Jan</th><th scope=col>Feb</th><th scope=col>Mar</th><th scope=col>Apr</th><th scope=col>May</th><th scope=col>Jun</th><th scope=col>Jul</th><th scope=col>Aug</th><th scope=col>Sep</th><th scope=col>Oct</th><th scope=col>Nov</th><th scope=col>Dec</th></tr>\n",
       "</thead>\n",
       "<tbody>\n",
       "\t<tr><th scope=row>2011</th><td>42.8</td><td>49.5</td><td>61.3</td><td>70.8</td><td>72.8</td><td>86.8</td><td>91.4</td><td>93.4</td><td>80.0</td><td>68.2</td><td>57.9</td><td>47.6</td></tr>\n",
       "\t<tr><th scope=row>2012</th><td>50.4</td><td>52.5</td><td>64.3</td><td>70.3</td><td>77.9</td><td>84.3</td><td>87.7</td><td>86.5</td><td>80.0</td><td>67.0</td><td>59.7</td><td>51.2</td></tr>\n",
       "\t<tr><th scope=row>2013</th><td>49.1</td><td>52.0</td><td>56.4</td><td>63.0</td><td>72.3</td><td>82.6</td><td>84.5</td><td>87.1</td><td>82.4</td><td>68.2</td><td>53.5</td><td>43.1</td></tr>\n",
       "\t<tr><th scope=row>2014</th><td>45.3</td><td>47.0</td><td>55.1</td><td>66.3</td><td>74.4</td><td>82.4</td><td>83.8</td><td>86.2</td><td>80.3</td><td>71.6</td><td>51.5</td><td>50.1</td></tr>\n",
       "\t<tr><th scope=row>2015</th><td>44.5</td><td>45.7</td><td>56.1</td><td>65.8</td><td>70.9</td><td>82.1</td><td>87.1</td><td>87.3</td><td>82.7</td><td>71.2</td><td>58.7</td><td>53.7</td></tr>\n",
       "\t<tr><th scope=row>2016</th><td>47.0</td><td>55.2</td><td>61.2</td><td>68.1</td><td>72.5</td><td>84.0</td><td>87.4</td><td>85.8</td><td>81.5</td><td>74.1</td><td>63.5</td><td>49.7</td></tr>\n",
       "\t<tr><th scope=row>2017</th><td>51.2</td><td>60.6</td><td>65.7</td><td>69.3</td><td>75.4</td><td>82.5</td><td>86.6</td><td>84.4</td><td>80.6</td><td>69.6</td><td>62.4</td><td>49.7</td></tr>\n",
       "\t<tr><th scope=row>2018</th><td>45.8</td><td>51.1</td><td>63.3</td><td>61.6</td><td>79.0</td><td>85.7</td><td>88.8</td><td>85.2</td><td>78.1</td><td>66.2</td><td>52.5</td><td>48.4</td></tr>\n",
       "\t<tr><th scope=row>2019</th><td>45.8</td><td>50.2</td><td>55.0</td><td>66.0</td><td>73.4</td><td>79.9</td><td>84.6</td><td>87.4</td><td>85.5</td><td>65.5</td><td>53.5</td><td>50.0</td></tr>\n",
       "\t<tr><th scope=row>2020</th><td>50.3</td><td>49.6</td><td>63.4</td><td>64.6</td><td>73.8</td><td>81.9</td><td>85.7</td><td>86.0</td><td>74.7</td><td>65.0</td><td>60.4</td><td>49.0</td></tr>\n",
       "</tbody>\n",
       "</table>\n"
      ],
      "text/latex": [
       "A Time Series: 10 × 12\n",
       "\\begin{tabular}{r|llllllllllll}\n",
       "  & Jan & Feb & Mar & Apr & May & Jun & Jul & Aug & Sep & Oct & Nov & Dec\\\\\n",
       "\\hline\n",
       "\t2011 & 42.8 & 49.5 & 61.3 & 70.8 & 72.8 & 86.8 & 91.4 & 93.4 & 80.0 & 68.2 & 57.9 & 47.6\\\\\n",
       "\t2012 & 50.4 & 52.5 & 64.3 & 70.3 & 77.9 & 84.3 & 87.7 & 86.5 & 80.0 & 67.0 & 59.7 & 51.2\\\\\n",
       "\t2013 & 49.1 & 52.0 & 56.4 & 63.0 & 72.3 & 82.6 & 84.5 & 87.1 & 82.4 & 68.2 & 53.5 & 43.1\\\\\n",
       "\t2014 & 45.3 & 47.0 & 55.1 & 66.3 & 74.4 & 82.4 & 83.8 & 86.2 & 80.3 & 71.6 & 51.5 & 50.1\\\\\n",
       "\t2015 & 44.5 & 45.7 & 56.1 & 65.8 & 70.9 & 82.1 & 87.1 & 87.3 & 82.7 & 71.2 & 58.7 & 53.7\\\\\n",
       "\t2016 & 47.0 & 55.2 & 61.2 & 68.1 & 72.5 & 84.0 & 87.4 & 85.8 & 81.5 & 74.1 & 63.5 & 49.7\\\\\n",
       "\t2017 & 51.2 & 60.6 & 65.7 & 69.3 & 75.4 & 82.5 & 86.6 & 84.4 & 80.6 & 69.6 & 62.4 & 49.7\\\\\n",
       "\t2018 & 45.8 & 51.1 & 63.3 & 61.6 & 79.0 & 85.7 & 88.8 & 85.2 & 78.1 & 66.2 & 52.5 & 48.4\\\\\n",
       "\t2019 & 45.8 & 50.2 & 55.0 & 66.0 & 73.4 & 79.9 & 84.6 & 87.4 & 85.5 & 65.5 & 53.5 & 50.0\\\\\n",
       "\t2020 & 50.3 & 49.6 & 63.4 & 64.6 & 73.8 & 81.9 & 85.7 & 86.0 & 74.7 & 65.0 & 60.4 & 49.0\\\\\n",
       "\\end{tabular}\n"
      ],
      "text/markdown": [
       "\n",
       "A Time Series: 10 × 12\n",
       "\n",
       "| <!--/--> | Jan | Feb | Mar | Apr | May | Jun | Jul | Aug | Sep | Oct | Nov | Dec |\n",
       "|---|---|---|---|---|---|---|---|---|---|---|---|---|\n",
       "| 2011 | 42.8 | 49.5 | 61.3 | 70.8 | 72.8 | 86.8 | 91.4 | 93.4 | 80.0 | 68.2 | 57.9 | 47.6 |\n",
       "| 2012 | 50.4 | 52.5 | 64.3 | 70.3 | 77.9 | 84.3 | 87.7 | 86.5 | 80.0 | 67.0 | 59.7 | 51.2 |\n",
       "| 2013 | 49.1 | 52.0 | 56.4 | 63.0 | 72.3 | 82.6 | 84.5 | 87.1 | 82.4 | 68.2 | 53.5 | 43.1 |\n",
       "| 2014 | 45.3 | 47.0 | 55.1 | 66.3 | 74.4 | 82.4 | 83.8 | 86.2 | 80.3 | 71.6 | 51.5 | 50.1 |\n",
       "| 2015 | 44.5 | 45.7 | 56.1 | 65.8 | 70.9 | 82.1 | 87.1 | 87.3 | 82.7 | 71.2 | 58.7 | 53.7 |\n",
       "| 2016 | 47.0 | 55.2 | 61.2 | 68.1 | 72.5 | 84.0 | 87.4 | 85.8 | 81.5 | 74.1 | 63.5 | 49.7 |\n",
       "| 2017 | 51.2 | 60.6 | 65.7 | 69.3 | 75.4 | 82.5 | 86.6 | 84.4 | 80.6 | 69.6 | 62.4 | 49.7 |\n",
       "| 2018 | 45.8 | 51.1 | 63.3 | 61.6 | 79.0 | 85.7 | 88.8 | 85.2 | 78.1 | 66.2 | 52.5 | 48.4 |\n",
       "| 2019 | 45.8 | 50.2 | 55.0 | 66.0 | 73.4 | 79.9 | 84.6 | 87.4 | 85.5 | 65.5 | 53.5 | 50.0 |\n",
       "| 2020 | 50.3 | 49.6 | 63.4 | 64.6 | 73.8 | 81.9 | 85.7 | 86.0 | 74.7 | 65.0 | 60.4 | 49.0 |\n",
       "\n"
      ],
      "text/plain": [
       "     Jan  Feb  Mar  Apr  May  Jun  Jul  Aug  Sep  Oct  Nov  Dec \n",
       "2011 42.8 49.5 61.3 70.8 72.8 86.8 91.4 93.4 80.0 68.2 57.9 47.6\n",
       "2012 50.4 52.5 64.3 70.3 77.9 84.3 87.7 86.5 80.0 67.0 59.7 51.2\n",
       "2013 49.1 52.0 56.4 63.0 72.3 82.6 84.5 87.1 82.4 68.2 53.5 43.1\n",
       "2014 45.3 47.0 55.1 66.3 74.4 82.4 83.8 86.2 80.3 71.6 51.5 50.1\n",
       "2015 44.5 45.7 56.1 65.8 70.9 82.1 87.1 87.3 82.7 71.2 58.7 53.7\n",
       "2016 47.0 55.2 61.2 68.1 72.5 84.0 87.4 85.8 81.5 74.1 63.5 49.7\n",
       "2017 51.2 60.6 65.7 69.3 75.4 82.5 86.6 84.4 80.6 69.6 62.4 49.7\n",
       "2018 45.8 51.1 63.3 61.6 79.0 85.7 88.8 85.2 78.1 66.2 52.5 48.4\n",
       "2019 45.8 50.2 55.0 66.0 73.4 79.9 84.6 87.4 85.5 65.5 53.5 50.0\n",
       "2020 50.3 49.6 63.4 64.6 73.8 81.9 85.7 86.0 74.7 65.0 60.4 49.0"
      ]
     },
     "metadata": {},
     "output_type": "display_data"
    }
   ],
   "source": [
    "dfw.2011.ts"
   ]
  },
  {
   "cell_type": "code",
   "execution_count": 7,
   "metadata": {
    "vscode": {
     "languageId": "r"
    }
   },
   "outputs": [
    {
     "data": {
      "image/png": "[encoded data removed]",
      "text/plain": [
       "plot without title"
      ]
     },
     "metadata": {
      "image/png": {
       "height": 480,
       "width": 660
      }
     },
     "output_type": "display_data"
    }
   ],
   "source": [
    "plot(dfw.2011.ts)"
   ]
  },
  {
   "cell_type": "code",
   "execution_count": 8,
   "metadata": {
    "vscode": {
     "languageId": "r"
    }
   },
   "outputs": [
    {
     "data": {
      "text/html": [
       "'ts'"
      ],
      "text/latex": [
       "'ts'"
      ],
      "text/markdown": [
       "'ts'"
      ],
      "text/plain": [
       "[1] \"ts\""
      ]
     },
     "metadata": {},
     "output_type": "display_data"
    },
    {
     "data": {
      "image/png": "[encoded data removed]",
      "text/plain": [
       "plot without title"
      ]
     },
     "metadata": {
      "image/png": {
       "height": 480,
       "width": 660
      }
     },
     "output_type": "display_data"
    }
   ],
   "source": [
    "data(lynx)\n",
    "class(lynx)\n",
    "# write.csv(lynx,file='lynx.csv', row.names=FALSE)\n",
    "plot(lynx)"
   ]
  },
  {
   "cell_type": "code",
   "execution_count": 9,
   "metadata": {
    "vscode": {
     "languageId": "r"
    }
   },
   "outputs": [],
   "source": [
    "data(bitcoin)\n",
    "# write.csv(bitcoin,file='bitcoin.csv', row.names=FALSE)\n"
   ]
  },
  {
   "cell_type": "code",
   "execution_count": 10,
   "metadata": {
    "vscode": {
     "languageId": "r"
    }
   },
   "outputs": [
    {
     "data": {
      "text/html": [
       "'numeric'"
      ],
      "text/latex": [
       "'numeric'"
      ],
      "text/markdown": [
       "'numeric'"
      ],
      "text/plain": [
       "[1] \"numeric\""
      ]
     },
     "metadata": {},
     "output_type": "display_data"
    }
   ],
   "source": [
    "class(bitcoin)"
   ]
  },
  {
   "cell_type": "code",
   "execution_count": 11,
   "metadata": {
    "vscode": {
     "languageId": "r"
    }
   },
   "outputs": [
    {
     "data": {
      "text/html": [
       "<style>\n",
       ".list-inline {list-style: none; margin:0; padding: 0}\n",
       ".list-inline>li {display: inline-block}\n",
       ".list-inline>li:not(:last-child)::after {content: \"\\00b7\"; padding: 0 .5ex}\n",
       "</style>\n",
       "<ol class=list-inline><li>'ability.cov'</li><li>'airmiles'</li><li>'AirPassengers'</li><li>'airquality'</li><li>'anscombe'</li><li>'attenu'</li><li>'attitude'</li><li>'austres'</li><li>'beaver1'</li><li>'beaver2'</li><li>'BJsales'</li><li>'BJsales.lead'</li><li>'BOD'</li><li>'cars'</li><li>'ChickWeight'</li><li>'chickwts'</li><li>'co2'</li><li>'CO2'</li><li>'crimtab'</li><li>'discoveries'</li><li>'DNase'</li><li>'esoph'</li><li>'euro'</li><li>'euro.cross'</li><li>'eurodist'</li><li>'EuStockMarkets'</li><li>'faithful'</li><li>'fdeaths'</li><li>'Formaldehyde'</li><li>'freeny'</li><li>'freeny.x'</li><li>'freeny.y'</li><li>'HairEyeColor'</li><li>'Harman23.cor'</li><li>'Harman74.cor'</li><li>'Indometh'</li><li>'infert'</li><li>'InsectSprays'</li><li>'iris'</li><li>'iris3'</li><li>'islands'</li><li>'JohnsonJohnson'</li><li>'LakeHuron'</li><li>'ldeaths'</li><li>'lh'</li><li>'LifeCycleSavings'</li><li>'Loblolly'</li><li>'longley'</li><li>'lynx'</li><li>'mdeaths'</li><li>'morley'</li><li>'mtcars'</li><li>'nhtemp'</li><li>'Nile'</li><li>'nottem'</li><li>'npk'</li><li>'occupationalStatus'</li><li>'Orange'</li><li>'OrchardSprays'</li><li>'PlantGrowth'</li><li>'precip'</li><li>'presidents'</li><li>'pressure'</li><li>'Puromycin'</li><li>'quakes'</li><li>'randu'</li><li>'rivers'</li><li>'rock'</li><li>'Seatbelts'</li><li>'sleep'</li><li>'stack.loss'</li><li>'stack.x'</li><li>'stackloss'</li><li>'state.abb'</li><li>'state.area'</li><li>'state.center'</li><li>'state.division'</li><li>'state.name'</li><li>'state.region'</li><li>'state.x77'</li><li>'sunspot.month'</li><li>'sunspot.year'</li><li>'sunspots'</li><li>'swiss'</li><li>'Theoph'</li><li>'Titanic'</li><li>'ToothGrowth'</li><li>'treering'</li><li>'trees'</li><li>'UCBAdmissions'</li><li>'UKDriverDeaths'</li><li>'UKgas'</li><li>'USAccDeaths'</li><li>'USArrests'</li><li>'UScitiesD'</li><li>'USJudgeRatings'</li><li>'USPersonalExpenditure'</li><li>'uspop'</li><li>'VADeaths'</li><li>'volcano'</li><li>'warpbreaks'</li><li>'women'</li><li>'WorldPhones'</li><li>'WWWusage'</li></ol>\n"
      ],
      "text/latex": [
       "\\begin{enumerate*}\n",
       "\\item 'ability.cov'\n",
       "\\item 'airmiles'\n",
       "\\item 'AirPassengers'\n",
       "\\item 'airquality'\n",
       "\\item 'anscombe'\n",
       "\\item 'attenu'\n",
       "\\item 'attitude'\n",
       "\\item 'austres'\n",
       "\\item 'beaver1'\n",
       "\\item 'beaver2'\n",
       "\\item 'BJsales'\n",
       "\\item 'BJsales.lead'\n",
       "\\item 'BOD'\n",
       "\\item 'cars'\n",
       "\\item 'ChickWeight'\n",
       "\\item 'chickwts'\n",
       "\\item 'co2'\n",
       "\\item 'CO2'\n",
       "\\item 'crimtab'\n",
       "\\item 'discoveries'\n",
       "\\item 'DNase'\n",
       "\\item 'esoph'\n",
       "\\item 'euro'\n",
       "\\item 'euro.cross'\n",
       "\\item 'eurodist'\n",
       "\\item 'EuStockMarkets'\n",
       "\\item 'faithful'\n",
       "\\item 'fdeaths'\n",
       "\\item 'Formaldehyde'\n",
       "\\item 'freeny'\n",
       "\\item 'freeny.x'\n",
       "\\item 'freeny.y'\n",
       "\\item 'HairEyeColor'\n",
       "\\item 'Harman23.cor'\n",
       "\\item 'Harman74.cor'\n",
       "\\item 'Indometh'\n",
       "\\item 'infert'\n",
       "\\item 'InsectSprays'\n",
       "\\item 'iris'\n",
       "\\item 'iris3'\n",
       "\\item 'islands'\n",
       "\\item 'JohnsonJohnson'\n",
       "\\item 'LakeHuron'\n",
       "\\item 'ldeaths'\n",
       "\\item 'lh'\n",
       "\\item 'LifeCycleSavings'\n",
       "\\item 'Loblolly'\n",
       "\\item 'longley'\n",
       "\\item 'lynx'\n",
       "\\item 'mdeaths'\n",
       "\\item 'morley'\n",
       "\\item 'mtcars'\n",
       "\\item 'nhtemp'\n",
       "\\item 'Nile'\n",
       "\\item 'nottem'\n",
       "\\item 'npk'\n",
       "\\item 'occupationalStatus'\n",
       "\\item 'Orange'\n",
       "\\item 'OrchardSprays'\n",
       "\\item 'PlantGrowth'\n",
       "\\item 'precip'\n",
       "\\item 'presidents'\n",
       "\\item 'pressure'\n",
       "\\item 'Puromycin'\n",
       "\\item 'quakes'\n",
       "\\item 'randu'\n",
       "\\item 'rivers'\n",
       "\\item 'rock'\n",
       "\\item 'Seatbelts'\n",
       "\\item 'sleep'\n",
       "\\item 'stack.loss'\n",
       "\\item 'stack.x'\n",
       "\\item 'stackloss'\n",
       "\\item 'state.abb'\n",
       "\\item 'state.area'\n",
       "\\item 'state.center'\n",
       "\\item 'state.division'\n",
       "\\item 'state.name'\n",
       "\\item 'state.region'\n",
       "\\item 'state.x77'\n",
       "\\item 'sunspot.month'\n",
       "\\item 'sunspot.year'\n",
       "\\item 'sunspots'\n",
       "\\item 'swiss'\n",
       "\\item 'Theoph'\n",
       "\\item 'Titanic'\n",
       "\\item 'ToothGrowth'\n",
       "\\item 'treering'\n",
       "\\item 'trees'\n",
       "\\item 'UCBAdmissions'\n",
       "\\item 'UKDriverDeaths'\n",
       "\\item 'UKgas'\n",
       "\\item 'USAccDeaths'\n",
       "\\item 'USArrests'\n",
       "\\item 'UScitiesD'\n",
       "\\item 'USJudgeRatings'\n",
       "\\item 'USPersonalExpenditure'\n",
       "\\item 'uspop'\n",
       "\\item 'VADeaths'\n",
       "\\item 'volcano'\n",
       "\\item 'warpbreaks'\n",
       "\\item 'women'\n",
       "\\item 'WorldPhones'\n",
       "\\item 'WWWusage'\n",
       "\\end{enumerate*}\n"
      ],
      "text/markdown": [
       "1. 'ability.cov'\n",
       "2. 'airmiles'\n",
       "3. 'AirPassengers'\n",
       "4. 'airquality'\n",
       "5. 'anscombe'\n",
       "6. 'attenu'\n",
       "7. 'attitude'\n",
       "8. 'austres'\n",
       "9. 'beaver1'\n",
       "10. 'beaver2'\n",
       "11. 'BJsales'\n",
       "12. 'BJsales.lead'\n",
       "13. 'BOD'\n",
       "14. 'cars'\n",
       "15. 'ChickWeight'\n",
       "16. 'chickwts'\n",
       "17. 'co2'\n",
       "18. 'CO2'\n",
       "19. 'crimtab'\n",
       "20. 'discoveries'\n",
       "21. 'DNase'\n",
       "22. 'esoph'\n",
       "23. 'euro'\n",
       "24. 'euro.cross'\n",
       "25. 'eurodist'\n",
       "26. 'EuStockMarkets'\n",
       "27. 'faithful'\n",
       "28. 'fdeaths'\n",
       "29. 'Formaldehyde'\n",
       "30. 'freeny'\n",
       "31. 'freeny.x'\n",
       "32. 'freeny.y'\n",
       "33. 'HairEyeColor'\n",
       "34. 'Harman23.cor'\n",
       "35. 'Harman74.cor'\n",
       "36. 'Indometh'\n",
       "37. 'infert'\n",
       "38. 'InsectSprays'\n",
       "39. 'iris'\n",
       "40. 'iris3'\n",
       "41. 'islands'\n",
       "42. 'JohnsonJohnson'\n",
       "43. 'LakeHuron'\n",
       "44. 'ldeaths'\n",
       "45. 'lh'\n",
       "46. 'LifeCycleSavings'\n",
       "47. 'Loblolly'\n",
       "48. 'longley'\n",
       "49. 'lynx'\n",
       "50. 'mdeaths'\n",
       "51. 'morley'\n",
       "52. 'mtcars'\n",
       "53. 'nhtemp'\n",
       "54. 'Nile'\n",
       "55. 'nottem'\n",
       "56. 'npk'\n",
       "57. 'occupationalStatus'\n",
       "58. 'Orange'\n",
       "59. 'OrchardSprays'\n",
       "60. 'PlantGrowth'\n",
       "61. 'precip'\n",
       "62. 'presidents'\n",
       "63. 'pressure'\n",
       "64. 'Puromycin'\n",
       "65. 'quakes'\n",
       "66. 'randu'\n",
       "67. 'rivers'\n",
       "68. 'rock'\n",
       "69. 'Seatbelts'\n",
       "70. 'sleep'\n",
       "71. 'stack.loss'\n",
       "72. 'stack.x'\n",
       "73. 'stackloss'\n",
       "74. 'state.abb'\n",
       "75. 'state.area'\n",
       "76. 'state.center'\n",
       "77. 'state.division'\n",
       "78. 'state.name'\n",
       "79. 'state.region'\n",
       "80. 'state.x77'\n",
       "81. 'sunspot.month'\n",
       "82. 'sunspot.year'\n",
       "83. 'sunspots'\n",
       "84. 'swiss'\n",
       "85. 'Theoph'\n",
       "86. 'Titanic'\n",
       "87. 'ToothGrowth'\n",
       "88. 'treering'\n",
       "89. 'trees'\n",
       "90. 'UCBAdmissions'\n",
       "91. 'UKDriverDeaths'\n",
       "92. 'UKgas'\n",
       "93. 'USAccDeaths'\n",
       "94. 'USArrests'\n",
       "95. 'UScitiesD'\n",
       "96. 'USJudgeRatings'\n",
       "97. 'USPersonalExpenditure'\n",
       "98. 'uspop'\n",
       "99. 'VADeaths'\n",
       "100. 'volcano'\n",
       "101. 'warpbreaks'\n",
       "102. 'women'\n",
       "103. 'WorldPhones'\n",
       "104. 'WWWusage'\n",
       "\n",
       "\n"
      ],
      "text/plain": [
       "  [1] \"ability.cov\"           \"airmiles\"              \"AirPassengers\"        \n",
       "  [4] \"airquality\"            \"anscombe\"              \"attenu\"               \n",
       "  [7] \"attitude\"              \"austres\"               \"beaver1\"              \n",
       " [10] \"beaver2\"               \"BJsales\"               \"BJsales.lead\"         \n",
       " [13] \"BOD\"                   \"cars\"                  \"ChickWeight\"          \n",
       " [16] \"chickwts\"              \"co2\"                   \"CO2\"                  \n",
       " [19] \"crimtab\"               \"discoveries\"           \"DNase\"                \n",
       " [22] \"esoph\"                 \"euro\"                  \"euro.cross\"           \n",
       " [25] \"eurodist\"              \"EuStockMarkets\"        \"faithful\"             \n",
       " [28] \"fdeaths\"               \"Formaldehyde\"          \"freeny\"               \n",
       " [31] \"freeny.x\"              \"freeny.y\"              \"HairEyeColor\"         \n",
       " [34] \"Harman23.cor\"          \"Harman74.cor\"          \"Indometh\"             \n",
       " [37] \"infert\"                \"InsectSprays\"          \"iris\"                 \n",
       " [40] \"iris3\"                 \"islands\"               \"JohnsonJohnson\"       \n",
       " [43] \"LakeHuron\"             \"ldeaths\"               \"lh\"                   \n",
       " [46] \"LifeCycleSavings\"      \"Loblolly\"              \"longley\"              \n",
       " [49] \"lynx\"                  \"mdeaths\"               \"morley\"               \n",
       " [52] \"mtcars\"                \"nhtemp\"                \"Nile\"                 \n",
       " [55] \"nottem\"                \"npk\"                   \"occupationalStatus\"   \n",
       " [58] \"Orange\"                \"OrchardSprays\"         \"PlantGrowth\"          \n",
       " [61] \"precip\"                \"presidents\"            \"pressure\"             \n",
       " [64] \"Puromycin\"             \"quakes\"                \"randu\"                \n",
       " [67] \"rivers\"                \"rock\"                  \"Seatbelts\"            \n",
       " [70] \"sleep\"                 \"stack.loss\"            \"stack.x\"              \n",
       " [73] \"stackloss\"             \"state.abb\"             \"state.area\"           \n",
       " [76] \"state.center\"          \"state.division\"        \"state.name\"           \n",
       " [79] \"state.region\"          \"state.x77\"             \"sunspot.month\"        \n",
       " [82] \"sunspot.year\"          \"sunspots\"              \"swiss\"                \n",
       " [85] \"Theoph\"                \"Titanic\"               \"ToothGrowth\"          \n",
       " [88] \"treering\"              \"trees\"                 \"UCBAdmissions\"        \n",
       " [91] \"UKDriverDeaths\"        \"UKgas\"                 \"USAccDeaths\"          \n",
       " [94] \"USArrests\"             \"UScitiesD\"             \"USJudgeRatings\"       \n",
       " [97] \"USPersonalExpenditure\" \"uspop\"                 \"VADeaths\"             \n",
       "[100] \"volcano\"               \"warpbreaks\"            \"women\"                \n",
       "[103] \"WorldPhones\"           \"WWWusage\"             "
      ]
     },
     "metadata": {},
     "output_type": "display_data"
    }
   ],
   "source": [
    "ls(\"package:datasets\")"
   ]
  },
  {
   "cell_type": "code",
   "execution_count": 12,
   "metadata": {
    "vscode": {
     "languageId": "r"
    }
   },
   "outputs": [
    {
     "name": "stdout",
     "output_type": "stream",
     "text": [
      "Data sets in package 'datasets':\n",
      "\n",
      "AirPassengers           Monthly Airline Passenger Numbers 1949-1960\n",
      "BJsales                 Sales Data with Leading Indicator\n",
      "BJsales.lead (BJsales)\n",
      "                        Sales Data with Leading Indicator\n",
      "BOD                     Biochemical Oxygen Demand\n",
      "CO2                     Carbon Dioxide Uptake in Grass Plants\n",
      "ChickWeight             Weight versus age of chicks on different diets\n",
      "DNase                   Elisa assay of DNase\n",
      "EuStockMarkets          Daily Closing Prices of Major European Stock\n",
      "                        Indices, 1991-1998\n",
      "Formaldehyde            Determination of Formaldehyde\n",
      "HairEyeColor            Hair and Eye Color of Statistics Students\n",
      "Harman23.cor            Harman Example 2.3\n",
      "Harman74.cor            Harman Example 7.4\n",
      "Indometh                Pharmacokinetics of Indomethacin\n",
      "InsectSprays            Effectiveness of Insect Sprays\n",
      "JohnsonJohnson          Quarterly Earnings per Johnson & Johnson Share\n",
      "LakeHuron               Level of Lake Huron 1875-1972\n",
      "LifeCycleSavings        Intercountry Life-Cycle Savings Data\n",
      "Loblolly                Growth of Loblolly pine trees\n",
      "Nile                    Flow of the River Nile\n",
      "Orange                  Growth of Orange Trees\n",
      "OrchardSprays           Potency of Orchard Sprays\n",
      "PlantGrowth             Results from an Experiment on Plant Growth\n",
      "Puromycin               Reaction Velocity of an Enzymatic Reaction\n",
      "Seatbelts               Road Casualties in Great Britain 1969-84\n",
      "Theoph                  Pharmacokinetics of Theophylline\n",
      "Titanic                 Survival of passengers on the Titanic\n",
      "ToothGrowth             The Effect of Vitamin C on Tooth Growth in\n",
      "                        Guinea Pigs\n",
      "UCBAdmissions           Student Admissions at UC Berkeley\n",
      "UKDriverDeaths          Road Casualties in Great Britain 1969-84\n",
      "UKgas                   UK Quarterly Gas Consumption\n",
      "USAccDeaths             Accidental Deaths in the US 1973-1978\n",
      "USArrests               Violent Crime Rates by US State\n",
      "USJudgeRatings          Lawyers' Ratings of State Judges in the US\n",
      "                        Superior Court\n",
      "USPersonalExpenditure   Personal Expenditure Data\n",
      "UScitiesD               Distances Between European Cities and Between\n",
      "                        US Cities\n",
      "VADeaths                Death Rates in Virginia (1940)\n",
      "WWWusage                Internet Usage per Minute\n",
      "WorldPhones             The World's Telephones\n",
      "ability.cov             Ability and Intelligence Tests\n",
      "airmiles                Passenger Miles on Commercial US Airlines,\n",
      "                        1937-1960\n",
      "airquality              New York Air Quality Measurements\n",
      "anscombe                Anscombe's Quartet of 'Identical' Simple Linear\n",
      "                        Regressions\n",
      "attenu                  The Joyner-Boore Attenuation Data\n",
      "attitude                The Chatterjee-Price Attitude Data\n",
      "austres                 Quarterly Time Series of the Number of\n",
      "                        Australian Residents\n",
      "beaver1 (beavers)       Body Temperature Series of Two Beavers\n",
      "beaver2 (beavers)       Body Temperature Series of Two Beavers\n",
      "cars                    Speed and Stopping Distances of Cars\n",
      "chickwts                Chicken Weights by Feed Type\n",
      "co2                     Mauna Loa Atmospheric CO2 Concentration\n",
      "crimtab                 Student's 3000 Criminals Data\n",
      "discoveries             Yearly Numbers of Important Discoveries\n",
      "esoph                   Smoking, Alcohol and (O)esophageal Cancer\n",
      "euro                    Conversion Rates of Euro Currencies\n",
      "euro.cross (euro)       Conversion Rates of Euro Currencies\n",
      "eurodist                Distances Between European Cities and Between\n",
      "                        US Cities\n",
      "faithful                Old Faithful Geyser Data\n",
      "fdeaths (UKLungDeaths)\n",
      "                        Monthly Deaths from Lung Diseases in the UK\n",
      "freeny                  Freeny's Revenue Data\n",
      "freeny.x (freeny)       Freeny's Revenue Data\n",
      "freeny.y (freeny)       Freeny's Revenue Data\n",
      "infert                  Infertility after Spontaneous and Induced\n",
      "                        Abortion\n",
      "iris                    Edgar Anderson's Iris Data\n",
      "iris3                   Edgar Anderson's Iris Data\n",
      "islands                 Areas of the World's Major Landmasses\n",
      "ldeaths (UKLungDeaths)\n",
      "                        Monthly Deaths from Lung Diseases in the UK\n",
      "lh                      Luteinizing Hormone in Blood Samples\n",
      "longley                 Longley's Economic Regression Data\n",
      "lynx                    Annual Canadian Lynx trappings 1821-1934\n",
      "mdeaths (UKLungDeaths)\n",
      "                        Monthly Deaths from Lung Diseases in the UK\n",
      "morley                  Michelson Speed of Light Data\n",
      "mtcars                  Motor Trend Car Road Tests\n",
      "nhtemp                  Average Yearly Temperatures in New Haven\n",
      "nottem                  Average Monthly Temperatures at Nottingham,\n",
      "                        1920-1939\n",
      "npk                     Classical N, P, K Factorial Experiment\n",
      "occupationalStatus      Occupational Status of Fathers and their Sons\n",
      "precip                  Annual Precipitation in US Cities\n",
      "presidents              Quarterly Approval Ratings of US Presidents\n",
      "pressure                Vapor Pressure of Mercury as a Function of\n",
      "                        Temperature\n",
      "quakes                  Locations of Earthquakes off Fiji\n",
      "randu                   Random Numbers from Congruential Generator\n",
      "                        RANDU\n",
      "rivers                  Lengths of Major North American Rivers\n",
      "rock                    Measurements on Petroleum Rock Samples\n",
      "sleep                   Student's Sleep Data\n",
      "stack.loss (stackloss)\n",
      "                        Brownlee's Stack Loss Plant Data\n",
      "stack.x (stackloss)     Brownlee's Stack Loss Plant Data\n",
      "stackloss               Brownlee's Stack Loss Plant Data\n",
      "state.abb (state)       US State Facts and Figures\n",
      "state.area (state)      US State Facts and Figures\n",
      "state.center (state)    US State Facts and Figures\n",
      "state.division (state)\n",
      "                        US State Facts and Figures\n",
      "state.name (state)      US State Facts and Figures\n",
      "state.region (state)    US State Facts and Figures\n",
      "state.x77 (state)       US State Facts and Figures\n",
      "sunspot.month           Monthly Sunspot Data, from 1749 to \"Present\"\n",
      "sunspot.year            Yearly Sunspot Data, 1700-1988\n",
      "sunspots                Monthly Sunspot Numbers, 1749-1983\n",
      "swiss                   Swiss Fertility and Socioeconomic Indicators\n",
      "                        (1888) Data\n",
      "treering                Yearly Treering Data, -6000-1979\n",
      "trees                   Diameter, Height and Volume for Black Cherry\n",
      "                        Trees\n",
      "uspop                   Populations Recorded by the US Census\n",
      "volcano                 Topographic Information on Auckland's Maunga\n",
      "                        Whau Volcano\n",
      "warpbreaks              The Number of Breaks in Yarn during Weaving\n",
      "women                   Average Heights and Weights for American Women\n",
      "Data sets in package 'tswge':\n",
      "\n",
      "Bsales                  Toy Data Set of Business Sales Data\n",
      "MedDays                 Median days a house stayed on the market\n",
      "NAICS                   Monthly Retail Sales Data\n",
      "NSA                     Monthly Total Vehicle Sales\n",
      "airline                 Classical Airline Passenger Data\n",
      "airlog                  Natural log of airline data\n",
      "appy                    Non-perforated appendicitis data shown in\n",
      "                        Figure 10.8 (solid line) in Applied Time Series\n",
      "                        Analysis with R, second edition by Woodward,\n",
      "                        Gray, and Elliott\n",
      "bat                     Bat echolocation signal shown in Figure 13.11a\n",
      "                        in Applied Time Series Analysis with R, second\n",
      "                        edition by Woodward, Gray, and Elliott\n",
      "bitcoin                 Daily Bitcoin Prices From May 1, 2020 to April\n",
      "                        30, 2021\n",
      "bumps16                 16 point bumps signal\n",
      "bumps256                256 point bumps signal\n",
      "cardiac                 Weekly Cardiac Mortality Data\n",
      "cement                  Cement data shown in Figure 3.30a in Applied\n",
      "                        Time Series Analysis with R, second edition by\n",
      "                        Woodward, Gray, and Elliott\n",
      "chirp                   Chirp data shown in Figure 12.2a in Applied\n",
      "                        Time Series Analysis with R, second edition by\n",
      "                        Woodward, Gray, and Elliott\n",
      "dfw.2011                DFW Monthly Temperatures from January 2011\n",
      "                        through December 2020\n",
      "dfw.mon                 DFW Monthly Temperatures\n",
      "dfw.yr                  DFW Annual Temperatures\n",
      "doppler                 Doppler Data\n",
      "doppler2                Doppler signal in Figure 13.10 in Applied Time\n",
      "                        Series Analysis with R, second edition by\n",
      "                        Woodward, Gray, and Elliott\n",
      "dow.annual              DOW Annual Closing Averages\n",
      "dow.rate                DOW Daily Rate of Return Data\n",
      "dow1000                 Dow Jones daily rate of return data for 1000\n",
      "                        days\n",
      "dow1985                 Daily DOW Closing Prices 1985 through 2020\n",
      "dowjones2014            Dow Jones daily averages for 2014\n",
      "eco.cd6                 6-month rates\n",
      "eco.corp.bond           Corporate bond rates\n",
      "eco.mort30              30 year mortgage rates\n",
      "fig1.10a                Simulated data shown in Figure 1.10a in Applied\n",
      "                        Time Series Analysis with R, second edition by\n",
      "                        Woodward, Gray, and Elliott\n",
      "fig1.10b                Simulated data shown in Figure 1.10b in Applied\n",
      "                        Time Series Analysis with R, second edition by\n",
      "                        Woodward, Gray, and Elliott\n",
      "fig1.10c                Simulated data in Figure 1.10c in Applied Time\n",
      "                        Series Analysis with R, second edition by\n",
      "                        Woodward, Gray, and Elliott\n",
      "fig1.10d                Simulated data in Figure 1.10d in Applied Time\n",
      "                        Series Analysis with R, second edition by\n",
      "                        Woodward, Gray, and Elliott\n",
      "fig1.16a                Simulated data for Figure 1.16a in Applied Time\n",
      "                        Series Analysis with R, second edition by\n",
      "                        Woodward, Gray, and Elliott\n",
      "fig1.21a                Simulated shown in Figure 1.21a of Woodward,\n",
      "                        Gray, and Elliott text\n",
      "fig1.22a                White noise data\n",
      "fig1.5                  Simulated data shown in Figure 1.5 in Applied\n",
      "                        Time Series Analysis with R, second edition by\n",
      "                        Woodward, Gray, and Elliott\n",
      "fig10.11x               Simulated data shown in Figure 10.11 (solid\n",
      "                        line) in Applied Time Series Analysis with R,\n",
      "                        second edition by Woodward, Gray, and Elliott\n",
      "fig10.11y               Simulated data shown in Figure 10.11 (dashed\n",
      "                        line) in Applied Time Series Analysis with R,\n",
      "                        second edition by Woodward, Gray, and Elliott\n",
      "fig10.1bond             Data for Figure 10.1b in Applied Time Series\n",
      "                        Analysis with R, second edition by Woodward,\n",
      "                        Gray, and Elliott\n",
      "fig10.1cd               Data shown in Figure 10.1a in Applied Time\n",
      "                        Series Analysis with R, second edition by\n",
      "                        Woodward, Gray, and Elliott\n",
      "fig10.1mort             Data shown in Figure 10.1c in Applied Time\n",
      "                        Series Analysis with R, second edition by\n",
      "                        Woodward, Gray, and Elliott\n",
      "fig10.3x1               Variable X1 for the bivariate realization shown\n",
      "                        in Figure 10.3\"\n",
      "fig10.3x2               Variable X2 for the bivariate realization shown\n",
      "                        in Figure 10.3\"\n",
      "fig11.12                Data shown in Figure 11.12a in Applied Time\n",
      "                        Series Analysis with R, second edition by\n",
      "                        Woodward, Gray, and Elliott\n",
      "fig11.4a                Data shown in Figure 11.4a in Applied Time\n",
      "                        Series Analysis with R, second edition by\n",
      "                        Woodward, Gray, and Elliott\n",
      "fig12.1a                Simulated data with two frequencies shown in\n",
      "                        Figure 12.1a in Applied Time Series Analysis\n",
      "                        with R, second edition by Woodward, Gray, and\n",
      "                        Elliott\n",
      "fig12.1b                Simulated data with two frequencies shown in\n",
      "                        Figure 12.1b in Applied Time Series Analysis\n",
      "                        with R, second edition by Woodward, Gray, and\n",
      "                        Elliott\n",
      "fig13.18a               Simulated data shown in Figure 3.18a in Applied\n",
      "                        Time Series Analysis with R, second edition by\n",
      "                        Woodward, Gray, and Elliott\n",
      "fig13.2c                TVF data shown in Figure 13.2c in Applied Time\n",
      "                        Series Analysis with R, second edition by\n",
      "                        Woodward, Gray, and Elliott\n",
      "fig3.10d                AR(2) Realization (1-.95)^2X(t)=a(t)\n",
      "fig3.16a                Figure 3.16a in \"Applied Time Series Analysis\n",
      "                        with R, 2nd edition\" by Woodward, Gray, and\n",
      "                        Elliott\n",
      "fig3.18a                Figure 3.18a in \"Applied Time Series Analysis\n",
      "                        with R, 2nd edition\" by Woodward, Gray, and\n",
      "                        Elliott\n",
      "fig3.24a                ARMA(2,1) realization\n",
      "fig3.29a                Simulated data shown in Figure 3.29a in Applied\n",
      "                        Time Series Analysis with R, second edition by\n",
      "                        Woodward, Gray, and Elliott\n",
      "fig4.8a                 Gaussian White Noise\n",
      "fig5.3c                 Data from Figure 5.3c in \"Applied Time Series\n",
      "                        Analysis with R, 2nd edition\" by Woodward,\n",
      "                        Gray, and Elliott\n",
      "fig6.11a                Cyclical Data\n",
      "fig6.1nf                Data in Figure 6.1 without the forecasts\n",
      "fig6.2nf                Data in Figure 6.2 without the forecasts\n",
      "fig6.5nf                Data in Figure 6.5 without the forecasts\n",
      "fig6.6nf                Data in Figure 6.6 without the forecasts\n",
      "fig6.7nf                Data in Figure 6.2 without the forecasts\n",
      "fig6.8nf                Simulated seasonal data with s=12\n",
      "fig8.11a                Data for Figure 8.11a in Applied Time Series\n",
      "                        Analysis with R, second edition by Woodward,\n",
      "                        Gray, and Elliott\n",
      "fig8.4a                 Data for Figure 8.4a in Applied time series\n",
      "                        Analysis with R, second edition by Woodward,\n",
      "                        Gray, and Elliott\n",
      "fig8.6a                 Data for Figure 8.6a in Applied time series\n",
      "                        Analysis with R, second edition by Woodward,\n",
      "                        Gray, and Elliott\n",
      "fig8.8a                 Data for Figure 8.8a in Applied time series\n",
      "                        Analysis with R, second edition by Woodward,\n",
      "                        Gray, and Elliott\n",
      "flu                     Influenza data shown in Figure 10.8 (dotted\n",
      "                        line)\n",
      "freeze                  Minimum temperature data\n",
      "freight                 Freight data\n",
      "global.temp             Global Temperature Data: 1850-2009\n",
      "global2020              Global Temperature Data: 1880-2009\n",
      "hadley                  Global temperature data\n",
      "kingkong                King Kong Eats Grass\n",
      "lavon                   Lavon lake water levels\n",
      "lavon15                 Lavon Lake Levels to September 30, 2015\n",
      "linearchirp             Linear chirp data.\n",
      "llynx                   Log (base 10) of lynx data\n",
      "lynx                    Lynx data\n",
      "ma2.table7.1            Simulated MA(2) data\n",
      "mass.mountain           Massachusettts Mountain Earthquake Data\n",
      "mm.eq                   Massachusetts Mountain Earthquake data shown in\n",
      "                        Figure 13.13a in Applied Time Series Analysis\n",
      "                        with R, second edition by Woodward, Gray, and\n",
      "                        Elliott\n",
      "nbumps256               256 noisy bumps signal\n",
      "nile.min                Annual minimal water levels of Nile river\n",
      "noctula                 Nyctalus noctula echolocation data\n",
      "ozona                   Daily Number of Chicken-Fried Steaks Sold\n",
      "patemp                  Pennsylvania average monthly temperatures\n",
      "prob10.4                Data matrix for Problem 10.4 in \"Applied Time\n",
      "                        Series Analysis with R, 2nd edition\" by\n",
      "                        Woodward, Gray, and Elliott\n",
      "prob10.6x               Data for Problem 10.6 in Applied Time Series\n",
      "                        Analysis with R, second edition by Woodward,\n",
      "                        Gray, and Elliott\n",
      "prob10.6y               Simulated observed data for Problem 10.6 in\n",
      "                        Applied Time Series Analysis with R, second\n",
      "                        edition by Woodward, Gray, and Elliott\n",
      "prob10.7x               Data for Problem 10.7 in Applied Time Series\n",
      "                        Analysis with R, second edition by Woodward,\n",
      "                        Gray, and Elliott\n",
      "prob10.7y               Simulated observed data for Problem 10.6 in\n",
      "                        Applied Time Series Analysis with R, second\n",
      "                        edition by Woodward, Gray, and Elliott\n",
      "prob11.5                Data for Problem 11.5 in Applied Time Series\n",
      "                        Analysis with R, second edition by Woodward,\n",
      "                        Gray, and Elliott\n",
      "prob12.1c               Data for Problem 12.1c and 12.3c in Applied\n",
      "                        Time Series Analysis with R, second edition by\n",
      "                        Woodward, Gray, and Elliott\n",
      "prob12.3a               Data for Problem 12.3a in Applied Time Series\n",
      "                        Analysis with R, second edition by Woodward,\n",
      "                        Gray, and Elliott\n",
      "prob12.3b               Data for Problem 12.3b in Applied Time Series\n",
      "                        Analysis with R, second edition by Woodward,\n",
      "                        Gray, and Elliott\n",
      "prob12.6c               Data set for Problem 12.6(C) in Applied Time\n",
      "                        Series Analysis with R, second edition by\n",
      "                        Woodward, Gray, and Elliott\n",
      "prob13.2                Data for Problem 13.2 in Applied Time Series\n",
      "                        Analysis with R, second edition by Woodward,\n",
      "                        Gray, and Elliott\n",
      "prob8.1a                Data for Problem 8.1 in \"Applied Time Series\n",
      "                        Analysis with R, 2nd edition\" by Woodward,\n",
      "                        Gray, and Elliott\n",
      "prob8.1b                Data for Problem 8.1 in \"Applied Time Series\n",
      "                        Analysis with R, 2nd edition\" by Woodward,\n",
      "                        Gray, and Elliott\n",
      "prob8.1c                Data for Problem 8.1 in \"Applied Time Series\n",
      "                        Analysis with R, 2nd edition\" by Woodward,\n",
      "                        Gray, and Elliott\n",
      "prob8.1d                Data for Problem 8.1 in \"Applied Time Series\n",
      "                        Analysis with R, 2nd edition\" by Woodward,\n",
      "                        Gray, and Elliott\n",
      "prob9.6c1               Data set 1 for Problem 6.1c\n",
      "prob9.6c2               Data set 2 for Problem 6.1c\n",
      "prob9.6c3               Data set 3 for Problem 6.1c\n",
      "prob9.6c4               Data set 4 for Problem 6.1c\n",
      "rate                    Daily DOW rate of Return\n",
      "ss08                    Sunspot Data\n",
      "ss08.1850               Sunspot data from 1850 through 2008 for\n",
      "                        matching with global temperature data (hadley)\n",
      "starwort.ex             Starwort Explosion data shown in Figure 13.13a\n",
      "                        in Applied Time Series Analysis with R, second\n",
      "                        edition by Woodward, Gray, and Elliott\n",
      "sunspot.classic         Classic Sunspot Data: 1749-1924\n",
      "sunspot2.0              Annual Sunspot2.0 Numbers\n",
      "sunspot2.0.month        Monthly Sunspot2.0 Numbers\n",
      "table10.1.noise         Noise related to data set, the first 5 points\n",
      "                        of which are shown in Table 10.1 in Applied\n",
      "                        Time Series Analysis with R, second edition by\n",
      "                        Woodward, Gray, and Elliott\n",
      "table10.1.signal        Underlying, unobservable signal (X(t), the\n",
      "                        first 5 points of which are shown in Table 10.1\n",
      "                        in Applied Time Series Analysis with R, second\n",
      "                        edition by Woodward, Gray, and Elliott\n",
      "table7.1                MA(2) data for Table 7.1\n",
      "tesla                   Tesla Stock Prices\n",
      "tx.unemp.adj            Texas Seasonally Adjusted Unnemployment Rates\n",
      "tx.unemp.unadj          Texas Unadjusted Unnemployment Rates\n",
      "us.retail               Quarterly US Retail Sales\n",
      "uspop                   US population\n",
      "wages                   Daily wages in Pounds from 1260 to 1944 for\n",
      "                        England\n",
      "whale                   Whale click data\n",
      "wtcrude                 West Texas Intermediate Crude Oil Prices\n",
      "wtcrude2020             Monthly WTI Crude Oil Prices\n",
      "yellowcab.precleaned    Precleaned Yellow Cab data\n",
      "\n",
      "Use 'data(package = .packages(all.available = TRUE))'\n",
      "to list the data sets in all *available* packages."
     ]
    }
   ],
   "source": [
    "data()"
   ]
  },
  {
   "cell_type": "code",
   "execution_count": 13,
   "metadata": {
    "vscode": {
     "languageId": "r"
    }
   },
   "outputs": [],
   "source": [
    "data(tesla)\n",
    "write.csv(tesla,file='tesla.csv', row.names=FALSE)"
   ]
  },
  {
   "cell_type": "code",
   "execution_count": 14,
   "metadata": {
    "vscode": {
     "languageId": "r"
    }
   },
   "outputs": [
    {
     "name": "stdout",
     "output_type": "stream",
     "text": [
      "2 88.32067 t.start,x.sm \n",
      "5 95.73955 t.start,x.sm \n"
     ]
    }
   ],
   "source": [
    "data(tesla)\n",
    "tesla.3= ma.smooth.wge(tesla,order= 3,plot= FALSE)\n",
    "tesla.8= ma.smooth.wge(tesla,order= 9,plot= FALSE)\n",
    "# plot(tesla)\n",
    "# tesla.8"
   ]
  },
  {
   "cell_type": "code",
   "execution_count": 15,
   "metadata": {
    "vscode": {
     "languageId": "r"
    }
   },
   "outputs": [],
   "source": [
    "data(AirPassengers)"
   ]
  },
  {
   "cell_type": "code",
   "execution_count": 16,
   "metadata": {
    "vscode": {
     "languageId": "r"
    }
   },
   "outputs": [
    {
     "data": {
      "text/html": [
       "<table class=\"dataframe\">\n",
       "<caption>A Time Series: 12 × 12</caption>\n",
       "<thead>\n",
       "\t<tr><th></th><th scope=col>Jan</th><th scope=col>Feb</th><th scope=col>Mar</th><th scope=col>Apr</th><th scope=col>May</th><th scope=col>Jun</th><th scope=col>Jul</th><th scope=col>Aug</th><th scope=col>Sep</th><th scope=col>Oct</th><th scope=col>Nov</th><th scope=col>Dec</th></tr>\n",
       "</thead>\n",
       "<tbody>\n",
       "\t<tr><th scope=row>1949</th><td>112</td><td>118</td><td>132</td><td>129</td><td>121</td><td>135</td><td>148</td><td>148</td><td>136</td><td>119</td><td>104</td><td>118</td></tr>\n",
       "\t<tr><th scope=row>1950</th><td>115</td><td>126</td><td>141</td><td>135</td><td>125</td><td>149</td><td>170</td><td>170</td><td>158</td><td>133</td><td>114</td><td>140</td></tr>\n",
       "\t<tr><th scope=row>1951</th><td>145</td><td>150</td><td>178</td><td>163</td><td>172</td><td>178</td><td>199</td><td>199</td><td>184</td><td>162</td><td>146</td><td>166</td></tr>\n",
       "\t<tr><th scope=row>1952</th><td>171</td><td>180</td><td>193</td><td>181</td><td>183</td><td>218</td><td>230</td><td>242</td><td>209</td><td>191</td><td>172</td><td>194</td></tr>\n",
       "\t<tr><th scope=row>1953</th><td>196</td><td>196</td><td>236</td><td>235</td><td>229</td><td>243</td><td>264</td><td>272</td><td>237</td><td>211</td><td>180</td><td>201</td></tr>\n",
       "\t<tr><th scope=row>1954</th><td>204</td><td>188</td><td>235</td><td>227</td><td>234</td><td>264</td><td>302</td><td>293</td><td>259</td><td>229</td><td>203</td><td>229</td></tr>\n",
       "\t<tr><th scope=row>1955</th><td>242</td><td>233</td><td>267</td><td>269</td><td>270</td><td>315</td><td>364</td><td>347</td><td>312</td><td>274</td><td>237</td><td>278</td></tr>\n",
       "\t<tr><th scope=row>1956</th><td>284</td><td>277</td><td>317</td><td>313</td><td>318</td><td>374</td><td>413</td><td>405</td><td>355</td><td>306</td><td>271</td><td>306</td></tr>\n",
       "\t<tr><th scope=row>1957</th><td>315</td><td>301</td><td>356</td><td>348</td><td>355</td><td>422</td><td>465</td><td>467</td><td>404</td><td>347</td><td>305</td><td>336</td></tr>\n",
       "\t<tr><th scope=row>1958</th><td>340</td><td>318</td><td>362</td><td>348</td><td>363</td><td>435</td><td>491</td><td>505</td><td>404</td><td>359</td><td>310</td><td>337</td></tr>\n",
       "\t<tr><th scope=row>1959</th><td>360</td><td>342</td><td>406</td><td>396</td><td>420</td><td>472</td><td>548</td><td>559</td><td>463</td><td>407</td><td>362</td><td>405</td></tr>\n",
       "\t<tr><th scope=row>1960</th><td>417</td><td>391</td><td>419</td><td>461</td><td>472</td><td>535</td><td>622</td><td>606</td><td>508</td><td>461</td><td>390</td><td>432</td></tr>\n",
       "</tbody>\n",
       "</table>\n"
      ],
      "text/latex": [
       "A Time Series: 12 × 12\n",
       "\\begin{tabular}{r|llllllllllll}\n",
       "  & Jan & Feb & Mar & Apr & May & Jun & Jul & Aug & Sep & Oct & Nov & Dec\\\\\n",
       "\\hline\n",
       "\t1949 & 112 & 118 & 132 & 129 & 121 & 135 & 148 & 148 & 136 & 119 & 104 & 118\\\\\n",
       "\t1950 & 115 & 126 & 141 & 135 & 125 & 149 & 170 & 170 & 158 & 133 & 114 & 140\\\\\n",
       "\t1951 & 145 & 150 & 178 & 163 & 172 & 178 & 199 & 199 & 184 & 162 & 146 & 166\\\\\n",
       "\t1952 & 171 & 180 & 193 & 181 & 183 & 218 & 230 & 242 & 209 & 191 & 172 & 194\\\\\n",
       "\t1953 & 196 & 196 & 236 & 235 & 229 & 243 & 264 & 272 & 237 & 211 & 180 & 201\\\\\n",
       "\t1954 & 204 & 188 & 235 & 227 & 234 & 264 & 302 & 293 & 259 & 229 & 203 & 229\\\\\n",
       "\t1955 & 242 & 233 & 267 & 269 & 270 & 315 & 364 & 347 & 312 & 274 & 237 & 278\\\\\n",
       "\t1956 & 284 & 277 & 317 & 313 & 318 & 374 & 413 & 405 & 355 & 306 & 271 & 306\\\\\n",
       "\t1957 & 315 & 301 & 356 & 348 & 355 & 422 & 465 & 467 & 404 & 347 & 305 & 336\\\\\n",
       "\t1958 & 340 & 318 & 362 & 348 & 363 & 435 & 491 & 505 & 404 & 359 & 310 & 337\\\\\n",
       "\t1959 & 360 & 342 & 406 & 396 & 420 & 472 & 548 & 559 & 463 & 407 & 362 & 405\\\\\n",
       "\t1960 & 417 & 391 & 419 & 461 & 472 & 535 & 622 & 606 & 508 & 461 & 390 & 432\\\\\n",
       "\\end{tabular}\n"
      ],
      "text/markdown": [
       "\n",
       "A Time Series: 12 × 12\n",
       "\n",
       "| <!--/--> | Jan | Feb | Mar | Apr | May | Jun | Jul | Aug | Sep | Oct | Nov | Dec |\n",
       "|---|---|---|---|---|---|---|---|---|---|---|---|---|\n",
       "| 1949 | 112 | 118 | 132 | 129 | 121 | 135 | 148 | 148 | 136 | 119 | 104 | 118 |\n",
       "| 1950 | 115 | 126 | 141 | 135 | 125 | 149 | 170 | 170 | 158 | 133 | 114 | 140 |\n",
       "| 1951 | 145 | 150 | 178 | 163 | 172 | 178 | 199 | 199 | 184 | 162 | 146 | 166 |\n",
       "| 1952 | 171 | 180 | 193 | 181 | 183 | 218 | 230 | 242 | 209 | 191 | 172 | 194 |\n",
       "| 1953 | 196 | 196 | 236 | 235 | 229 | 243 | 264 | 272 | 237 | 211 | 180 | 201 |\n",
       "| 1954 | 204 | 188 | 235 | 227 | 234 | 264 | 302 | 293 | 259 | 229 | 203 | 229 |\n",
       "| 1955 | 242 | 233 | 267 | 269 | 270 | 315 | 364 | 347 | 312 | 274 | 237 | 278 |\n",
       "| 1956 | 284 | 277 | 317 | 313 | 318 | 374 | 413 | 405 | 355 | 306 | 271 | 306 |\n",
       "| 1957 | 315 | 301 | 356 | 348 | 355 | 422 | 465 | 467 | 404 | 347 | 305 | 336 |\n",
       "| 1958 | 340 | 318 | 362 | 348 | 363 | 435 | 491 | 505 | 404 | 359 | 310 | 337 |\n",
       "| 1959 | 360 | 342 | 406 | 396 | 420 | 472 | 548 | 559 | 463 | 407 | 362 | 405 |\n",
       "| 1960 | 417 | 391 | 419 | 461 | 472 | 535 | 622 | 606 | 508 | 461 | 390 | 432 |\n",
       "\n"
      ],
      "text/plain": [
       "     Jan Feb Mar Apr May Jun Jul Aug Sep Oct Nov Dec\n",
       "1949 112 118 132 129 121 135 148 148 136 119 104 118\n",
       "1950 115 126 141 135 125 149 170 170 158 133 114 140\n",
       "1951 145 150 178 163 172 178 199 199 184 162 146 166\n",
       "1952 171 180 193 181 183 218 230 242 209 191 172 194\n",
       "1953 196 196 236 235 229 243 264 272 237 211 180 201\n",
       "1954 204 188 235 227 234 264 302 293 259 229 203 229\n",
       "1955 242 233 267 269 270 315 364 347 312 274 237 278\n",
       "1956 284 277 317 313 318 374 413 405 355 306 271 306\n",
       "1957 315 301 356 348 355 422 465 467 404 347 305 336\n",
       "1958 340 318 362 348 363 435 491 505 404 359 310 337\n",
       "1959 360 342 406 396 420 472 548 559 463 407 362 405\n",
       "1960 417 391 419 461 472 535 622 606 508 461 390 432"
      ]
     },
     "metadata": {},
     "output_type": "display_data"
    }
   ],
   "source": [
    "AirPassengers"
   ]
  },
  {
   "cell_type": "code",
   "execution_count": 17,
   "metadata": {
    "vscode": {
     "languageId": "r"
    }
   },
   "outputs": [],
   "source": [
    "data(tx.unemp.unadj)\n",
    "write.csv(tx.unemp.unadj,file='tx.unemp.unadj.csv', row.names=FALSE)"
   ]
  },
  {
   "cell_type": "code",
   "execution_count": 18,
   "metadata": {
    "vscode": {
     "languageId": "r"
    }
   },
   "outputs": [
    {
     "data": {
      "text/html": [
       "<table class=\"dataframe\">\n",
       "<caption>A Time Series: 20 × 12</caption>\n",
       "<thead>\n",
       "\t<tr><th></th><th scope=col>Jan</th><th scope=col>Feb</th><th scope=col>Mar</th><th scope=col>Apr</th><th scope=col>May</th><th scope=col>Jun</th><th scope=col>Jul</th><th scope=col>Aug</th><th scope=col>Sep</th><th scope=col>Oct</th><th scope=col>Nov</th><th scope=col>Dec</th></tr>\n",
       "</thead>\n",
       "<tbody>\n",
       "\t<tr><th scope=row>2000</th><td>4.9</td><td>4.9</td><td>4.8</td><td>4.1</td><td>4.3</td><td>4.7</td><td>4.6</td><td>4.6</td><td>4.3</td><td>3.9</td><td>4.0</td><td>3.5</td></tr>\n",
       "\t<tr><th scope=row>2001</th><td>4.4</td><td>4.2</td><td>4.5</td><td>4.3</td><td>4.4</td><td>5.2</td><td>5.2</td><td>5.4</td><td>5.3</td><td>5.4</td><td>5.7</td><td>5.7</td></tr>\n",
       "\t<tr><th scope=row>2002</th><td>6.4</td><td>6.2</td><td>6.2</td><td>6.2</td><td>6.1</td><td>6.8</td><td>6.7</td><td>6.5</td><td>6.2</td><td>6.1</td><td>6.4</td><td>6.3</td></tr>\n",
       "\t<tr><th scope=row>2003</th><td>7.0</td><td>6.9</td><td>6.7</td><td>6.5</td><td>6.7</td><td>7.6</td><td>7.2</td><td>6.9</td><td>6.7</td><td>6.3</td><td>6.3</td><td>5.9</td></tr>\n",
       "\t<tr><th scope=row>2004</th><td>6.7</td><td>6.2</td><td>6.4</td><td>5.8</td><td>5.8</td><td>6.5</td><td>6.3</td><td>5.9</td><td>5.7</td><td>5.6</td><td>5.8</td><td>5.7</td></tr>\n",
       "\t<tr><th scope=row>2005</th><td>6.0</td><td>6.0</td><td>5.5</td><td>5.2</td><td>5.2</td><td>5.6</td><td>5.5</td><td>5.4</td><td>5.6</td><td>5.2</td><td>5.4</td><td>5.1</td></tr>\n",
       "\t<tr><th scope=row>2006</th><td>5.3</td><td>5.4</td><td>5.2</td><td>5.0</td><td>5.0</td><td>5.5</td><td>5.5</td><td>5.1</td><td>4.8</td><td>4.4</td><td>4.5</td><td>4.1</td></tr>\n",
       "\t<tr><th scope=row>2007</th><td>4.8</td><td>4.7</td><td>4.2</td><td>4.0</td><td>4.0</td><td>4.7</td><td>4.8</td><td>4.3</td><td>4.4</td><td>4.0</td><td>4.2</td><td>4.3</td></tr>\n",
       "\t<tr><th scope=row>2008</th><td>4.7</td><td>4.4</td><td>4.3</td><td>3.9</td><td>4.4</td><td>5.0</td><td>5.2</td><td>5.3</td><td>5.2</td><td>5.2</td><td>5.3</td><td>5.5</td></tr>\n",
       "\t<tr><th scope=row>2009</th><td>6.5</td><td>6.5</td><td>6.5</td><td>6.1</td><td>7.2</td><td>8.4</td><td>8.5</td><td>8.4</td><td>8.3</td><td>8.1</td><td>7.9</td><td>8.0</td></tr>\n",
       "\t<tr><th scope=row>2010</th><td>8.6</td><td>8.4</td><td>8.3</td><td>7.9</td><td>7.9</td><td>8.4</td><td>8.4</td><td>8.3</td><td>8.1</td><td>7.9</td><td>8.2</td><td>8.0</td></tr>\n",
       "\t<tr><th scope=row>2011</th><td>8.5</td><td>8.2</td><td>8.1</td><td>7.7</td><td>8.0</td><td>8.7</td><td>8.7</td><td>8.4</td><td>8.1</td><td>7.6</td><td>7.2</td><td>7.0</td></tr>\n",
       "\t<tr><th scope=row>2012</th><td>7.3</td><td>7.1</td><td>6.6</td><td>6.3</td><td>6.6</td><td>7.3</td><td>7.3</td><td>6.9</td><td>6.4</td><td>6.2</td><td>6.1</td><td>6.2</td></tr>\n",
       "\t<tr><th scope=row>2013</th><td>7.0</td><td>6.6</td><td>6.4</td><td>6.0</td><td>6.3</td><td>6.9</td><td>6.7</td><td>6.4</td><td>6.3</td><td>6.0</td><td>5.8</td><td>5.5</td></tr>\n",
       "\t<tr><th scope=row>2014</th><td>5.8</td><td>5.8</td><td>5.5</td><td>4.8</td><td>5.1</td><td>5.5</td><td>5.7</td><td>5.4</td><td>5.0</td><td>4.7</td><td>4.6</td><td>4.2</td></tr>\n",
       "\t<tr><th scope=row>2015</th><td>4.8</td><td>4.5</td><td>4.4</td><td>4.1</td><td>4.3</td><td>4.7</td><td>4.8</td><td>4.6</td><td>4.5</td><td>4.4</td><td>4.4</td><td>4.2</td></tr>\n",
       "\t<tr><th scope=row>2016</th><td>4.5</td><td>4.4</td><td>4.5</td><td>4.3</td><td>4.3</td><td>5.0</td><td>5.1</td><td>5.0</td><td>4.9</td><td>4.6</td><td>4.5</td><td>4.6</td></tr>\n",
       "\t<tr><th scope=row>2017</th><td>5.0</td><td>4.9</td><td>4.6</td><td>4.2</td><td>4.2</td><td>4.6</td><td>4.5</td><td>4.5</td><td>4.1</td><td>3.7</td><td>3.9</td><td>3.8</td></tr>\n",
       "\t<tr><th scope=row>2018</th><td>4.3</td><td>4.2</td><td>4.0</td><td>3.7</td><td>3.6</td><td>4.3</td><td>4.1</td><td>4.0</td><td>3.8</td><td>3.5</td><td>3.5</td><td>3.6</td></tr>\n",
       "\t<tr><th scope=row>2019</th><td>4.2</td><td>3.8</td><td>3.5</td><td>3.1</td><td>3.1</td><td>3.8</td><td>3.8</td><td>3.7</td><td>3.4</td><td>3.3</td><td>3.4</td><td>3.3</td></tr>\n",
       "</tbody>\n",
       "</table>\n"
      ],
      "text/latex": [
       "A Time Series: 20 × 12\n",
       "\\begin{tabular}{r|llllllllllll}\n",
       "  & Jan & Feb & Mar & Apr & May & Jun & Jul & Aug & Sep & Oct & Nov & Dec\\\\\n",
       "\\hline\n",
       "\t2000 & 4.9 & 4.9 & 4.8 & 4.1 & 4.3 & 4.7 & 4.6 & 4.6 & 4.3 & 3.9 & 4.0 & 3.5\\\\\n",
       "\t2001 & 4.4 & 4.2 & 4.5 & 4.3 & 4.4 & 5.2 & 5.2 & 5.4 & 5.3 & 5.4 & 5.7 & 5.7\\\\\n",
       "\t2002 & 6.4 & 6.2 & 6.2 & 6.2 & 6.1 & 6.8 & 6.7 & 6.5 & 6.2 & 6.1 & 6.4 & 6.3\\\\\n",
       "\t2003 & 7.0 & 6.9 & 6.7 & 6.5 & 6.7 & 7.6 & 7.2 & 6.9 & 6.7 & 6.3 & 6.3 & 5.9\\\\\n",
       "\t2004 & 6.7 & 6.2 & 6.4 & 5.8 & 5.8 & 6.5 & 6.3 & 5.9 & 5.7 & 5.6 & 5.8 & 5.7\\\\\n",
       "\t2005 & 6.0 & 6.0 & 5.5 & 5.2 & 5.2 & 5.6 & 5.5 & 5.4 & 5.6 & 5.2 & 5.4 & 5.1\\\\\n",
       "\t2006 & 5.3 & 5.4 & 5.2 & 5.0 & 5.0 & 5.5 & 5.5 & 5.1 & 4.8 & 4.4 & 4.5 & 4.1\\\\\n",
       "\t2007 & 4.8 & 4.7 & 4.2 & 4.0 & 4.0 & 4.7 & 4.8 & 4.3 & 4.4 & 4.0 & 4.2 & 4.3\\\\\n",
       "\t2008 & 4.7 & 4.4 & 4.3 & 3.9 & 4.4 & 5.0 & 5.2 & 5.3 & 5.2 & 5.2 & 5.3 & 5.5\\\\\n",
       "\t2009 & 6.5 & 6.5 & 6.5 & 6.1 & 7.2 & 8.4 & 8.5 & 8.4 & 8.3 & 8.1 & 7.9 & 8.0\\\\\n",
       "\t2010 & 8.6 & 8.4 & 8.3 & 7.9 & 7.9 & 8.4 & 8.4 & 8.3 & 8.1 & 7.9 & 8.2 & 8.0\\\\\n",
       "\t2011 & 8.5 & 8.2 & 8.1 & 7.7 & 8.0 & 8.7 & 8.7 & 8.4 & 8.1 & 7.6 & 7.2 & 7.0\\\\\n",
       "\t2012 & 7.3 & 7.1 & 6.6 & 6.3 & 6.6 & 7.3 & 7.3 & 6.9 & 6.4 & 6.2 & 6.1 & 6.2\\\\\n",
       "\t2013 & 7.0 & 6.6 & 6.4 & 6.0 & 6.3 & 6.9 & 6.7 & 6.4 & 6.3 & 6.0 & 5.8 & 5.5\\\\\n",
       "\t2014 & 5.8 & 5.8 & 5.5 & 4.8 & 5.1 & 5.5 & 5.7 & 5.4 & 5.0 & 4.7 & 4.6 & 4.2\\\\\n",
       "\t2015 & 4.8 & 4.5 & 4.4 & 4.1 & 4.3 & 4.7 & 4.8 & 4.6 & 4.5 & 4.4 & 4.4 & 4.2\\\\\n",
       "\t2016 & 4.5 & 4.4 & 4.5 & 4.3 & 4.3 & 5.0 & 5.1 & 5.0 & 4.9 & 4.6 & 4.5 & 4.6\\\\\n",
       "\t2017 & 5.0 & 4.9 & 4.6 & 4.2 & 4.2 & 4.6 & 4.5 & 4.5 & 4.1 & 3.7 & 3.9 & 3.8\\\\\n",
       "\t2018 & 4.3 & 4.2 & 4.0 & 3.7 & 3.6 & 4.3 & 4.1 & 4.0 & 3.8 & 3.5 & 3.5 & 3.6\\\\\n",
       "\t2019 & 4.2 & 3.8 & 3.5 & 3.1 & 3.1 & 3.8 & 3.8 & 3.7 & 3.4 & 3.3 & 3.4 & 3.3\\\\\n",
       "\\end{tabular}\n"
      ],
      "text/markdown": [
       "\n",
       "A Time Series: 20 × 12\n",
       "\n",
       "| <!--/--> | Jan | Feb | Mar | Apr | May | Jun | Jul | Aug | Sep | Oct | Nov | Dec |\n",
       "|---|---|---|---|---|---|---|---|---|---|---|---|---|\n",
       "| 2000 | 4.9 | 4.9 | 4.8 | 4.1 | 4.3 | 4.7 | 4.6 | 4.6 | 4.3 | 3.9 | 4.0 | 3.5 |\n",
       "| 2001 | 4.4 | 4.2 | 4.5 | 4.3 | 4.4 | 5.2 | 5.2 | 5.4 | 5.3 | 5.4 | 5.7 | 5.7 |\n",
       "| 2002 | 6.4 | 6.2 | 6.2 | 6.2 | 6.1 | 6.8 | 6.7 | 6.5 | 6.2 | 6.1 | 6.4 | 6.3 |\n",
       "| 2003 | 7.0 | 6.9 | 6.7 | 6.5 | 6.7 | 7.6 | 7.2 | 6.9 | 6.7 | 6.3 | 6.3 | 5.9 |\n",
       "| 2004 | 6.7 | 6.2 | 6.4 | 5.8 | 5.8 | 6.5 | 6.3 | 5.9 | 5.7 | 5.6 | 5.8 | 5.7 |\n",
       "| 2005 | 6.0 | 6.0 | 5.5 | 5.2 | 5.2 | 5.6 | 5.5 | 5.4 | 5.6 | 5.2 | 5.4 | 5.1 |\n",
       "| 2006 | 5.3 | 5.4 | 5.2 | 5.0 | 5.0 | 5.5 | 5.5 | 5.1 | 4.8 | 4.4 | 4.5 | 4.1 |\n",
       "| 2007 | 4.8 | 4.7 | 4.2 | 4.0 | 4.0 | 4.7 | 4.8 | 4.3 | 4.4 | 4.0 | 4.2 | 4.3 |\n",
       "| 2008 | 4.7 | 4.4 | 4.3 | 3.9 | 4.4 | 5.0 | 5.2 | 5.3 | 5.2 | 5.2 | 5.3 | 5.5 |\n",
       "| 2009 | 6.5 | 6.5 | 6.5 | 6.1 | 7.2 | 8.4 | 8.5 | 8.4 | 8.3 | 8.1 | 7.9 | 8.0 |\n",
       "| 2010 | 8.6 | 8.4 | 8.3 | 7.9 | 7.9 | 8.4 | 8.4 | 8.3 | 8.1 | 7.9 | 8.2 | 8.0 |\n",
       "| 2011 | 8.5 | 8.2 | 8.1 | 7.7 | 8.0 | 8.7 | 8.7 | 8.4 | 8.1 | 7.6 | 7.2 | 7.0 |\n",
       "| 2012 | 7.3 | 7.1 | 6.6 | 6.3 | 6.6 | 7.3 | 7.3 | 6.9 | 6.4 | 6.2 | 6.1 | 6.2 |\n",
       "| 2013 | 7.0 | 6.6 | 6.4 | 6.0 | 6.3 | 6.9 | 6.7 | 6.4 | 6.3 | 6.0 | 5.8 | 5.5 |\n",
       "| 2014 | 5.8 | 5.8 | 5.5 | 4.8 | 5.1 | 5.5 | 5.7 | 5.4 | 5.0 | 4.7 | 4.6 | 4.2 |\n",
       "| 2015 | 4.8 | 4.5 | 4.4 | 4.1 | 4.3 | 4.7 | 4.8 | 4.6 | 4.5 | 4.4 | 4.4 | 4.2 |\n",
       "| 2016 | 4.5 | 4.4 | 4.5 | 4.3 | 4.3 | 5.0 | 5.1 | 5.0 | 4.9 | 4.6 | 4.5 | 4.6 |\n",
       "| 2017 | 5.0 | 4.9 | 4.6 | 4.2 | 4.2 | 4.6 | 4.5 | 4.5 | 4.1 | 3.7 | 3.9 | 3.8 |\n",
       "| 2018 | 4.3 | 4.2 | 4.0 | 3.7 | 3.6 | 4.3 | 4.1 | 4.0 | 3.8 | 3.5 | 3.5 | 3.6 |\n",
       "| 2019 | 4.2 | 3.8 | 3.5 | 3.1 | 3.1 | 3.8 | 3.8 | 3.7 | 3.4 | 3.3 | 3.4 | 3.3 |\n",
       "\n"
      ],
      "text/plain": [
       "     Jan Feb Mar Apr May Jun Jul Aug Sep Oct Nov Dec\n",
       "2000 4.9 4.9 4.8 4.1 4.3 4.7 4.6 4.6 4.3 3.9 4.0 3.5\n",
       "2001 4.4 4.2 4.5 4.3 4.4 5.2 5.2 5.4 5.3 5.4 5.7 5.7\n",
       "2002 6.4 6.2 6.2 6.2 6.1 6.8 6.7 6.5 6.2 6.1 6.4 6.3\n",
       "2003 7.0 6.9 6.7 6.5 6.7 7.6 7.2 6.9 6.7 6.3 6.3 5.9\n",
       "2004 6.7 6.2 6.4 5.8 5.8 6.5 6.3 5.9 5.7 5.6 5.8 5.7\n",
       "2005 6.0 6.0 5.5 5.2 5.2 5.6 5.5 5.4 5.6 5.2 5.4 5.1\n",
       "2006 5.3 5.4 5.2 5.0 5.0 5.5 5.5 5.1 4.8 4.4 4.5 4.1\n",
       "2007 4.8 4.7 4.2 4.0 4.0 4.7 4.8 4.3 4.4 4.0 4.2 4.3\n",
       "2008 4.7 4.4 4.3 3.9 4.4 5.0 5.2 5.3 5.2 5.2 5.3 5.5\n",
       "2009 6.5 6.5 6.5 6.1 7.2 8.4 8.5 8.4 8.3 8.1 7.9 8.0\n",
       "2010 8.6 8.4 8.3 7.9 7.9 8.4 8.4 8.3 8.1 7.9 8.2 8.0\n",
       "2011 8.5 8.2 8.1 7.7 8.0 8.7 8.7 8.4 8.1 7.6 7.2 7.0\n",
       "2012 7.3 7.1 6.6 6.3 6.6 7.3 7.3 6.9 6.4 6.2 6.1 6.2\n",
       "2013 7.0 6.6 6.4 6.0 6.3 6.9 6.7 6.4 6.3 6.0 5.8 5.5\n",
       "2014 5.8 5.8 5.5 4.8 5.1 5.5 5.7 5.4 5.0 4.7 4.6 4.2\n",
       "2015 4.8 4.5 4.4 4.1 4.3 4.7 4.8 4.6 4.5 4.4 4.4 4.2\n",
       "2016 4.5 4.4 4.5 4.3 4.3 5.0 5.1 5.0 4.9 4.6 4.5 4.6\n",
       "2017 5.0 4.9 4.6 4.2 4.2 4.6 4.5 4.5 4.1 3.7 3.9 3.8\n",
       "2018 4.3 4.2 4.0 3.7 3.6 4.3 4.1 4.0 3.8 3.5 3.5 3.6\n",
       "2019 4.2 3.8 3.5 3.1 3.1 3.8 3.8 3.7 3.4 3.3 3.4 3.3"
      ]
     },
     "metadata": {},
     "output_type": "display_data"
    }
   ],
   "source": [
    "tx.unemp.unadj"
   ]
  },
  {
   "cell_type": "code",
   "execution_count": 19,
   "metadata": {
    "vscode": {
     "languageId": "r"
    }
   },
   "outputs": [
    {
     "data": {
      "image/png": "[encoded data removed]",
      "text/plain": [
       "Plot with title \"\""
      ]
     },
     "metadata": {
      "image/png": {
       "height": 480,
       "width": 660
      }
     },
     "output_type": "display_data"
    }
   ],
   "source": [
    "tx.unemp.sm= ma.smooth.wge(tx.unemp.unadj,order= 12, plot= FALSE)\n",
    "tx.unemp.sm12= ts(tx.unemp.sm$smooth,start= c(2000,1),frequency= 12)\n",
    "plotts.wge(tx.unemp.sm12)"
   ]
  },
  {
   "cell_type": "code",
   "execution_count": 20,
   "metadata": {
    "vscode": {
     "languageId": "r"
    }
   },
   "outputs": [
    {
     "data": {
      "text/html": [
       "<table class=\"dataframe\">\n",
       "<caption>A Time Series: 31 × 12</caption>\n",
       "<thead>\n",
       "\t<tr><th></th><th scope=col>Jan</th><th scope=col>Feb</th><th scope=col>Mar</th><th scope=col>Apr</th><th scope=col>May</th><th scope=col>Jun</th><th scope=col>Jul</th><th scope=col>Aug</th><th scope=col>Sep</th><th scope=col>Oct</th><th scope=col>Nov</th><th scope=col>Dec</th></tr>\n",
       "</thead>\n",
       "<tbody>\n",
       "\t<tr><th scope=row>1990</th><td> 22.96000</td><td> 22.12000</td><td> 20.41000</td><td> 18.43000</td><td> 18.25000</td><td> 16.69000</td><td> 18.42000</td><td> 27.23000</td><td> 33.80000</td><td> 36.13000</td><td> 32.44000</td><td> 27.33000</td></tr>\n",
       "\t<tr><th scope=row>1991</th><td> 25.20000</td><td> 20.50000</td><td> 19.87000</td><td> 20.77000</td><td> 21.24000</td><td> 20.21000</td><td> 21.52000</td><td> 21.70000</td><td> 21.86000</td><td> 23.30000</td><td> 22.46000</td><td> 19.51000</td></tr>\n",
       "\t<tr><th scope=row>1992</th><td> 18.76000</td><td> 18.99000</td><td> 18.92000</td><td> 20.23000</td><td> 20.97000</td><td> 22.37000</td><td> 21.77000</td><td> 21.31000</td><td> 21.90000</td><td> 21.69000</td><td> 20.33000</td><td> 19.42000</td></tr>\n",
       "\t<tr><th scope=row>1993</th><td> 19.06000</td><td> 20.04000</td><td> 20.32000</td><td> 20.26000</td><td> 19.94000</td><td> 19.11000</td><td> 17.86000</td><td> 18.01000</td><td> 17.51000</td><td> 18.16000</td><td> 16.68000</td><td> 14.51000</td></tr>\n",
       "\t<tr><th scope=row>1994</th><td> 15.01000</td><td> 14.77000</td><td> 14.65000</td><td> 16.40000</td><td> 17.88000</td><td> 19.07000</td><td> 19.65000</td><td> 18.38000</td><td> 17.45000</td><td> 17.70000</td><td> 18.07000</td><td> 17.17000</td></tr>\n",
       "\t<tr><th scope=row>1995</th><td> 18.02000</td><td> 18.55000</td><td> 18.55000</td><td> 19.91000</td><td> 19.73000</td><td> 18.42000</td><td> 17.30000</td><td> 18.01000</td><td> 18.22000</td><td> 17.43000</td><td> 18.01000</td><td> 19.03000</td></tr>\n",
       "\t<tr><th scope=row>1996</th><td> 18.87000</td><td> 19.09000</td><td> 21.31000</td><td> 23.56000</td><td> 21.21000</td><td> 20.42000</td><td> 21.29000</td><td> 21.94000</td><td> 24.01000</td><td> 24.90000</td><td> 23.61000</td><td> 25.37000</td></tr>\n",
       "\t<tr><th scope=row>1997</th><td> 25.17000</td><td> 22.19000</td><td> 20.98000</td><td> 19.71000</td><td> 20.83000</td><td> 19.17000</td><td> 19.63000</td><td> 19.92000</td><td> 19.77000</td><td> 21.25000</td><td> 20.10000</td><td> 18.30000</td></tr>\n",
       "\t<tr><th scope=row>1998</th><td> 16.70000</td><td> 16.06000</td><td> 15.11000</td><td> 15.32000</td><td> 14.90000</td><td> 13.71000</td><td> 14.12000</td><td> 13.40000</td><td> 14.98000</td><td> 14.42000</td><td> 12.96000</td><td> 11.31000</td></tr>\n",
       "\t<tr><th scope=row>1999</th><td> 12.34000</td><td> 11.99000</td><td> 14.36000</td><td> 17.23000</td><td> 17.75000</td><td> 17.72000</td><td> 19.89000</td><td> 21.17000</td><td> 23.52000</td><td> 22.94000</td><td> 25.06000</td><td> 26.02000</td></tr>\n",
       "\t<tr><th scope=row>2000</th><td> 27.24000</td><td> 29.21000</td><td> 29.92000</td><td> 25.78000</td><td> 28.78000</td><td> 31.86000</td><td> 29.97000</td><td> 31.31000</td><td> 33.89000</td><td> 33.05000</td><td> 34.37000</td><td> 28.40000</td></tr>\n",
       "\t<tr><th scope=row>2001</th><td> 29.52000</td><td> 29.57000</td><td> 27.24000</td><td> 27.37000</td><td> 28.61000</td><td> 27.56000</td><td> 26.44000</td><td> 27.45000</td><td> 25.59000</td><td> 22.18000</td><td> 19.59000</td><td> 19.31000</td></tr>\n",
       "\t<tr><th scope=row>2002</th><td> 19.69000</td><td> 20.72000</td><td> 24.38000</td><td> 26.24000</td><td> 27.04000</td><td> 25.51000</td><td> 26.92000</td><td> 28.37000</td><td> 29.67000</td><td> 28.85000</td><td> 26.56000</td><td> 29.44000</td></tr>\n",
       "\t<tr><th scope=row>2003</th><td> 32.91522</td><td> 35.85250</td><td> 33.31571</td><td> 28.32818</td><td> 28.20182</td><td> 30.71000</td><td> 30.73435</td><td> 31.58381</td><td> 28.43318</td><td> 30.32174</td><td> 31.02400</td><td> 32.17870</td></tr>\n",
       "\t<tr><th scope=row>2004</th><td> 34.12409</td><td> 34.72150</td><td> 36.73130</td><td> 36.74045</td><td> 40.26571</td><td> 38.05000</td><td> 40.71136</td><td> 44.92364</td><td> 45.84227</td><td> 53.24619</td><td> 48.52045</td><td> 43.27348</td></tr>\n",
       "\t<tr><th scope=row>2005</th><td> 46.89429</td><td> 47.98200</td><td> 54.04304</td><td> 52.96286</td><td> 49.90636</td><td> 56.38909</td><td> 58.67000</td><td> 64.95565</td><td> 65.63045</td><td> 62.36381</td><td> 58.29909</td><td> 59.36045</td></tr>\n",
       "\t<tr><th scope=row>2006</th><td> 65.21045</td><td> 61.52850</td><td> 62.88957</td><td> 69.53150</td><td> 70.95217</td><td> 70.93182</td><td> 74.35905</td><td> 73.04174</td><td> 64.07476</td><td> 58.85045</td><td> 59.06773</td><td> 61.99238</td></tr>\n",
       "\t<tr><th scope=row>2007</th><td> 54.77783</td><td> 59.25700</td><td> 60.60182</td><td> 63.95286</td><td> 63.50739</td><td> 67.49190</td><td> 74.01773</td><td> 72.37826</td><td> 79.61300</td><td> 85.90391</td><td> 94.90455</td><td> 91.75905</td></tr>\n",
       "\t<tr><th scope=row>2008</th><td> 93.00261</td><td> 95.38952</td><td>105.34476</td><td>112.61864</td><td>125.65545</td><td>133.92714</td><td>133.89565</td><td>116.64048</td><td>104.46045</td><td> 76.61478</td><td> 57.15100</td><td> 40.64870</td></tr>\n",
       "\t<tr><th scope=row>2009</th><td> 41.63091</td><td> 39.06850</td><td> 47.97545</td><td> 49.91955</td><td> 59.21524</td><td> 69.62136</td><td> 64.23391</td><td> 71.06000</td><td> 69.37864</td><td> 75.77227</td><td> 77.95048</td><td> 74.60304</td></tr>\n",
       "\t<tr><th scope=row>2010</th><td> 78.38619</td><td> 76.29900</td><td> 81.25043</td><td> 84.49545</td><td> 73.74143</td><td> 75.35364</td><td> 76.15909</td><td> 76.60182</td><td> 75.26000</td><td> 81.89952</td><td> 84.19182</td><td> 89.22348</td></tr>\n",
       "\t<tr><th scope=row>2011</th><td> 89.51000</td><td> 89.36600</td><td>102.91609</td><td>110.04286</td><td>101.25136</td><td> 96.25409</td><td> 97.19381</td><td> 86.32130</td><td> 85.61682</td><td> 86.40619</td><td> 97.06636</td><td> 98.61227</td></tr>\n",
       "\t<tr><th scope=row>2012</th><td>100.14864</td><td>102.26286</td><td>106.15045</td><td>103.28429</td><td> 94.50696</td><td> 82.35952</td><td> 87.89045</td><td> 94.11043</td><td> 94.60600</td><td> 89.51739</td><td> 86.68955</td><td> 88.19143</td></tr>\n",
       "\t<tr><th scope=row>2013</th><td> 94.65261</td><td> 95.29500</td><td> 93.11810</td><td> 92.01909</td><td> 94.71870</td><td> 95.78950</td><td>104.54522</td><td>106.54636</td><td>106.31381</td><td>100.50043</td><td> 93.81238</td><td> 97.90227</td></tr>\n",
       "\t<tr><th scope=row>2014</th><td> 94.99652</td><td>100.70400</td><td>100.57333</td><td>102.17864</td><td>102.00318</td><td>105.24190</td><td>102.98609</td><td> 96.38143</td><td> 93.34909</td><td> 84.40000</td><td> 75.70150</td><td> 59.09957</td></tr>\n",
       "\t<tr><th scope=row>2015</th><td> 47.60364</td><td> 50.71750</td><td> 47.78364</td><td> 54.20364</td><td> 59.26238</td><td> 59.80455</td><td> 51.16174</td><td> 42.86333</td><td> 45.48136</td><td> 46.19636</td><td> 42.65238</td><td> 37.24130</td></tr>\n",
       "\t<tr><th scope=row>2016</th><td> 31.70476</td><td> 30.34857</td><td> 37.77391</td><td> 40.96286</td><td> 46.84591</td><td> 48.74864</td><td> 44.89190</td><td> 44.74913</td><td> 45.16727</td><td> 49.88524</td><td> 45.62318</td><td> 52.01364</td></tr>\n",
       "\t<tr><th scope=row>2017</th><td> 52.55955</td><td> 53.40150</td><td> 49.58478</td><td> 51.16800</td><td> 48.55957</td><td> 45.16773</td><td> 46.67381</td><td> 48.03174</td><td> 49.70619</td><td> 51.56455</td><td> 56.71045</td><td> 57.96238</td></tr>\n",
       "\t<tr><th scope=row>2018</th><td> 63.55696</td><td> 62.15000</td><td> 62.86136</td><td> 66.32048</td><td> 69.89261</td><td> 67.52286</td><td> 70.99136</td><td> 67.98870</td><td> 70.18550</td><td> 70.75130</td><td> 56.56773</td><td> 48.63524</td></tr>\n",
       "\t<tr><th scope=row>2019</th><td> 51.35739</td><td> 54.98600</td><td> 58.15381</td><td> 63.87591</td><td> 60.73348</td><td> 54.67700</td><td> 57.50870</td><td> 54.83909</td><td> 56.85714</td><td> 53.97913</td><td> 57.11048</td><td> 59.85773</td></tr>\n",
       "\t<tr><th scope=row>2020</th><td> 57.71478</td><td> 50.60150</td><td> 29.87727</td><td> 16.80727</td><td> 28.79476</td><td> 38.30227</td><td> 40.75000</td><td> 42.36429</td><td> 39.60955</td><td> 39.52955</td><td> 41.51619</td><td> 47.09391</td></tr>\n",
       "</tbody>\n",
       "</table>\n"
      ],
      "text/latex": [
       "A Time Series: 31 × 12\n",
       "\\begin{tabular}{r|llllllllllll}\n",
       "  & Jan & Feb & Mar & Apr & May & Jun & Jul & Aug & Sep & Oct & Nov & Dec\\\\\n",
       "\\hline\n",
       "\t1990 &  22.96000 &  22.12000 &  20.41000 &  18.43000 &  18.25000 &  16.69000 &  18.42000 &  27.23000 &  33.80000 &  36.13000 &  32.44000 &  27.33000\\\\\n",
       "\t1991 &  25.20000 &  20.50000 &  19.87000 &  20.77000 &  21.24000 &  20.21000 &  21.52000 &  21.70000 &  21.86000 &  23.30000 &  22.46000 &  19.51000\\\\\n",
       "\t1992 &  18.76000 &  18.99000 &  18.92000 &  20.23000 &  20.97000 &  22.37000 &  21.77000 &  21.31000 &  21.90000 &  21.69000 &  20.33000 &  19.42000\\\\\n",
       "\t1993 &  19.06000 &  20.04000 &  20.32000 &  20.26000 &  19.94000 &  19.11000 &  17.86000 &  18.01000 &  17.51000 &  18.16000 &  16.68000 &  14.51000\\\\\n",
       "\t1994 &  15.01000 &  14.77000 &  14.65000 &  16.40000 &  17.88000 &  19.07000 &  19.65000 &  18.38000 &  17.45000 &  17.70000 &  18.07000 &  17.17000\\\\\n",
       "\t1995 &  18.02000 &  18.55000 &  18.55000 &  19.91000 &  19.73000 &  18.42000 &  17.30000 &  18.01000 &  18.22000 &  17.43000 &  18.01000 &  19.03000\\\\\n",
       "\t1996 &  18.87000 &  19.09000 &  21.31000 &  23.56000 &  21.21000 &  20.42000 &  21.29000 &  21.94000 &  24.01000 &  24.90000 &  23.61000 &  25.37000\\\\\n",
       "\t1997 &  25.17000 &  22.19000 &  20.98000 &  19.71000 &  20.83000 &  19.17000 &  19.63000 &  19.92000 &  19.77000 &  21.25000 &  20.10000 &  18.30000\\\\\n",
       "\t1998 &  16.70000 &  16.06000 &  15.11000 &  15.32000 &  14.90000 &  13.71000 &  14.12000 &  13.40000 &  14.98000 &  14.42000 &  12.96000 &  11.31000\\\\\n",
       "\t1999 &  12.34000 &  11.99000 &  14.36000 &  17.23000 &  17.75000 &  17.72000 &  19.89000 &  21.17000 &  23.52000 &  22.94000 &  25.06000 &  26.02000\\\\\n",
       "\t2000 &  27.24000 &  29.21000 &  29.92000 &  25.78000 &  28.78000 &  31.86000 &  29.97000 &  31.31000 &  33.89000 &  33.05000 &  34.37000 &  28.40000\\\\\n",
       "\t2001 &  29.52000 &  29.57000 &  27.24000 &  27.37000 &  28.61000 &  27.56000 &  26.44000 &  27.45000 &  25.59000 &  22.18000 &  19.59000 &  19.31000\\\\\n",
       "\t2002 &  19.69000 &  20.72000 &  24.38000 &  26.24000 &  27.04000 &  25.51000 &  26.92000 &  28.37000 &  29.67000 &  28.85000 &  26.56000 &  29.44000\\\\\n",
       "\t2003 &  32.91522 &  35.85250 &  33.31571 &  28.32818 &  28.20182 &  30.71000 &  30.73435 &  31.58381 &  28.43318 &  30.32174 &  31.02400 &  32.17870\\\\\n",
       "\t2004 &  34.12409 &  34.72150 &  36.73130 &  36.74045 &  40.26571 &  38.05000 &  40.71136 &  44.92364 &  45.84227 &  53.24619 &  48.52045 &  43.27348\\\\\n",
       "\t2005 &  46.89429 &  47.98200 &  54.04304 &  52.96286 &  49.90636 &  56.38909 &  58.67000 &  64.95565 &  65.63045 &  62.36381 &  58.29909 &  59.36045\\\\\n",
       "\t2006 &  65.21045 &  61.52850 &  62.88957 &  69.53150 &  70.95217 &  70.93182 &  74.35905 &  73.04174 &  64.07476 &  58.85045 &  59.06773 &  61.99238\\\\\n",
       "\t2007 &  54.77783 &  59.25700 &  60.60182 &  63.95286 &  63.50739 &  67.49190 &  74.01773 &  72.37826 &  79.61300 &  85.90391 &  94.90455 &  91.75905\\\\\n",
       "\t2008 &  93.00261 &  95.38952 & 105.34476 & 112.61864 & 125.65545 & 133.92714 & 133.89565 & 116.64048 & 104.46045 &  76.61478 &  57.15100 &  40.64870\\\\\n",
       "\t2009 &  41.63091 &  39.06850 &  47.97545 &  49.91955 &  59.21524 &  69.62136 &  64.23391 &  71.06000 &  69.37864 &  75.77227 &  77.95048 &  74.60304\\\\\n",
       "\t2010 &  78.38619 &  76.29900 &  81.25043 &  84.49545 &  73.74143 &  75.35364 &  76.15909 &  76.60182 &  75.26000 &  81.89952 &  84.19182 &  89.22348\\\\\n",
       "\t2011 &  89.51000 &  89.36600 & 102.91609 & 110.04286 & 101.25136 &  96.25409 &  97.19381 &  86.32130 &  85.61682 &  86.40619 &  97.06636 &  98.61227\\\\\n",
       "\t2012 & 100.14864 & 102.26286 & 106.15045 & 103.28429 &  94.50696 &  82.35952 &  87.89045 &  94.11043 &  94.60600 &  89.51739 &  86.68955 &  88.19143\\\\\n",
       "\t2013 &  94.65261 &  95.29500 &  93.11810 &  92.01909 &  94.71870 &  95.78950 & 104.54522 & 106.54636 & 106.31381 & 100.50043 &  93.81238 &  97.90227\\\\\n",
       "\t2014 &  94.99652 & 100.70400 & 100.57333 & 102.17864 & 102.00318 & 105.24190 & 102.98609 &  96.38143 &  93.34909 &  84.40000 &  75.70150 &  59.09957\\\\\n",
       "\t2015 &  47.60364 &  50.71750 &  47.78364 &  54.20364 &  59.26238 &  59.80455 &  51.16174 &  42.86333 &  45.48136 &  46.19636 &  42.65238 &  37.24130\\\\\n",
       "\t2016 &  31.70476 &  30.34857 &  37.77391 &  40.96286 &  46.84591 &  48.74864 &  44.89190 &  44.74913 &  45.16727 &  49.88524 &  45.62318 &  52.01364\\\\\n",
       "\t2017 &  52.55955 &  53.40150 &  49.58478 &  51.16800 &  48.55957 &  45.16773 &  46.67381 &  48.03174 &  49.70619 &  51.56455 &  56.71045 &  57.96238\\\\\n",
       "\t2018 &  63.55696 &  62.15000 &  62.86136 &  66.32048 &  69.89261 &  67.52286 &  70.99136 &  67.98870 &  70.18550 &  70.75130 &  56.56773 &  48.63524\\\\\n",
       "\t2019 &  51.35739 &  54.98600 &  58.15381 &  63.87591 &  60.73348 &  54.67700 &  57.50870 &  54.83909 &  56.85714 &  53.97913 &  57.11048 &  59.85773\\\\\n",
       "\t2020 &  57.71478 &  50.60150 &  29.87727 &  16.80727 &  28.79476 &  38.30227 &  40.75000 &  42.36429 &  39.60955 &  39.52955 &  41.51619 &  47.09391\\\\\n",
       "\\end{tabular}\n"
      ],
      "text/markdown": [
       "\n",
       "A Time Series: 31 × 12\n",
       "\n",
       "| <!--/--> | Jan | Feb | Mar | Apr | May | Jun | Jul | Aug | Sep | Oct | Nov | Dec |\n",
       "|---|---|---|---|---|---|---|---|---|---|---|---|---|\n",
       "| 1990 |  22.96000 |  22.12000 |  20.41000 |  18.43000 |  18.25000 |  16.69000 |  18.42000 |  27.23000 |  33.80000 |  36.13000 |  32.44000 |  27.33000 |\n",
       "| 1991 |  25.20000 |  20.50000 |  19.87000 |  20.77000 |  21.24000 |  20.21000 |  21.52000 |  21.70000 |  21.86000 |  23.30000 |  22.46000 |  19.51000 |\n",
       "| 1992 |  18.76000 |  18.99000 |  18.92000 |  20.23000 |  20.97000 |  22.37000 |  21.77000 |  21.31000 |  21.90000 |  21.69000 |  20.33000 |  19.42000 |\n",
       "| 1993 |  19.06000 |  20.04000 |  20.32000 |  20.26000 |  19.94000 |  19.11000 |  17.86000 |  18.01000 |  17.51000 |  18.16000 |  16.68000 |  14.51000 |\n",
       "| 1994 |  15.01000 |  14.77000 |  14.65000 |  16.40000 |  17.88000 |  19.07000 |  19.65000 |  18.38000 |  17.45000 |  17.70000 |  18.07000 |  17.17000 |\n",
       "| 1995 |  18.02000 |  18.55000 |  18.55000 |  19.91000 |  19.73000 |  18.42000 |  17.30000 |  18.01000 |  18.22000 |  17.43000 |  18.01000 |  19.03000 |\n",
       "| 1996 |  18.87000 |  19.09000 |  21.31000 |  23.56000 |  21.21000 |  20.42000 |  21.29000 |  21.94000 |  24.01000 |  24.90000 |  23.61000 |  25.37000 |\n",
       "| 1997 |  25.17000 |  22.19000 |  20.98000 |  19.71000 |  20.83000 |  19.17000 |  19.63000 |  19.92000 |  19.77000 |  21.25000 |  20.10000 |  18.30000 |\n",
       "| 1998 |  16.70000 |  16.06000 |  15.11000 |  15.32000 |  14.90000 |  13.71000 |  14.12000 |  13.40000 |  14.98000 |  14.42000 |  12.96000 |  11.31000 |\n",
       "| 1999 |  12.34000 |  11.99000 |  14.36000 |  17.23000 |  17.75000 |  17.72000 |  19.89000 |  21.17000 |  23.52000 |  22.94000 |  25.06000 |  26.02000 |\n",
       "| 2000 |  27.24000 |  29.21000 |  29.92000 |  25.78000 |  28.78000 |  31.86000 |  29.97000 |  31.31000 |  33.89000 |  33.05000 |  34.37000 |  28.40000 |\n",
       "| 2001 |  29.52000 |  29.57000 |  27.24000 |  27.37000 |  28.61000 |  27.56000 |  26.44000 |  27.45000 |  25.59000 |  22.18000 |  19.59000 |  19.31000 |\n",
       "| 2002 |  19.69000 |  20.72000 |  24.38000 |  26.24000 |  27.04000 |  25.51000 |  26.92000 |  28.37000 |  29.67000 |  28.85000 |  26.56000 |  29.44000 |\n",
       "| 2003 |  32.91522 |  35.85250 |  33.31571 |  28.32818 |  28.20182 |  30.71000 |  30.73435 |  31.58381 |  28.43318 |  30.32174 |  31.02400 |  32.17870 |\n",
       "| 2004 |  34.12409 |  34.72150 |  36.73130 |  36.74045 |  40.26571 |  38.05000 |  40.71136 |  44.92364 |  45.84227 |  53.24619 |  48.52045 |  43.27348 |\n",
       "| 2005 |  46.89429 |  47.98200 |  54.04304 |  52.96286 |  49.90636 |  56.38909 |  58.67000 |  64.95565 |  65.63045 |  62.36381 |  58.29909 |  59.36045 |\n",
       "| 2006 |  65.21045 |  61.52850 |  62.88957 |  69.53150 |  70.95217 |  70.93182 |  74.35905 |  73.04174 |  64.07476 |  58.85045 |  59.06773 |  61.99238 |\n",
       "| 2007 |  54.77783 |  59.25700 |  60.60182 |  63.95286 |  63.50739 |  67.49190 |  74.01773 |  72.37826 |  79.61300 |  85.90391 |  94.90455 |  91.75905 |\n",
       "| 2008 |  93.00261 |  95.38952 | 105.34476 | 112.61864 | 125.65545 | 133.92714 | 133.89565 | 116.64048 | 104.46045 |  76.61478 |  57.15100 |  40.64870 |\n",
       "| 2009 |  41.63091 |  39.06850 |  47.97545 |  49.91955 |  59.21524 |  69.62136 |  64.23391 |  71.06000 |  69.37864 |  75.77227 |  77.95048 |  74.60304 |\n",
       "| 2010 |  78.38619 |  76.29900 |  81.25043 |  84.49545 |  73.74143 |  75.35364 |  76.15909 |  76.60182 |  75.26000 |  81.89952 |  84.19182 |  89.22348 |\n",
       "| 2011 |  89.51000 |  89.36600 | 102.91609 | 110.04286 | 101.25136 |  96.25409 |  97.19381 |  86.32130 |  85.61682 |  86.40619 |  97.06636 |  98.61227 |\n",
       "| 2012 | 100.14864 | 102.26286 | 106.15045 | 103.28429 |  94.50696 |  82.35952 |  87.89045 |  94.11043 |  94.60600 |  89.51739 |  86.68955 |  88.19143 |\n",
       "| 2013 |  94.65261 |  95.29500 |  93.11810 |  92.01909 |  94.71870 |  95.78950 | 104.54522 | 106.54636 | 106.31381 | 100.50043 |  93.81238 |  97.90227 |\n",
       "| 2014 |  94.99652 | 100.70400 | 100.57333 | 102.17864 | 102.00318 | 105.24190 | 102.98609 |  96.38143 |  93.34909 |  84.40000 |  75.70150 |  59.09957 |\n",
       "| 2015 |  47.60364 |  50.71750 |  47.78364 |  54.20364 |  59.26238 |  59.80455 |  51.16174 |  42.86333 |  45.48136 |  46.19636 |  42.65238 |  37.24130 |\n",
       "| 2016 |  31.70476 |  30.34857 |  37.77391 |  40.96286 |  46.84591 |  48.74864 |  44.89190 |  44.74913 |  45.16727 |  49.88524 |  45.62318 |  52.01364 |\n",
       "| 2017 |  52.55955 |  53.40150 |  49.58478 |  51.16800 |  48.55957 |  45.16773 |  46.67381 |  48.03174 |  49.70619 |  51.56455 |  56.71045 |  57.96238 |\n",
       "| 2018 |  63.55696 |  62.15000 |  62.86136 |  66.32048 |  69.89261 |  67.52286 |  70.99136 |  67.98870 |  70.18550 |  70.75130 |  56.56773 |  48.63524 |\n",
       "| 2019 |  51.35739 |  54.98600 |  58.15381 |  63.87591 |  60.73348 |  54.67700 |  57.50870 |  54.83909 |  56.85714 |  53.97913 |  57.11048 |  59.85773 |\n",
       "| 2020 |  57.71478 |  50.60150 |  29.87727 |  16.80727 |  28.79476 |  38.30227 |  40.75000 |  42.36429 |  39.60955 |  39.52955 |  41.51619 |  47.09391 |\n",
       "\n"
      ],
      "text/plain": [
       "     Jan       Feb       Mar       Apr       May       Jun       Jul      \n",
       "1990  22.96000  22.12000  20.41000  18.43000  18.25000  16.69000  18.42000\n",
       "1991  25.20000  20.50000  19.87000  20.77000  21.24000  20.21000  21.52000\n",
       "1992  18.76000  18.99000  18.92000  20.23000  20.97000  22.37000  21.77000\n",
       "1993  19.06000  20.04000  20.32000  20.26000  19.94000  19.11000  17.86000\n",
       "1994  15.01000  14.77000  14.65000  16.40000  17.88000  19.07000  19.65000\n",
       "1995  18.02000  18.55000  18.55000  19.91000  19.73000  18.42000  17.30000\n",
       "1996  18.87000  19.09000  21.31000  23.56000  21.21000  20.42000  21.29000\n",
       "1997  25.17000  22.19000  20.98000  19.71000  20.83000  19.17000  19.63000\n",
       "1998  16.70000  16.06000  15.11000  15.32000  14.90000  13.71000  14.12000\n",
       "1999  12.34000  11.99000  14.36000  17.23000  17.75000  17.72000  19.89000\n",
       "2000  27.24000  29.21000  29.92000  25.78000  28.78000  31.86000  29.97000\n",
       "2001  29.52000  29.57000  27.24000  27.37000  28.61000  27.56000  26.44000\n",
       "2002  19.69000  20.72000  24.38000  26.24000  27.04000  25.51000  26.92000\n",
       "2003  32.91522  35.85250  33.31571  28.32818  28.20182  30.71000  30.73435\n",
       "2004  34.12409  34.72150  36.73130  36.74045  40.26571  38.05000  40.71136\n",
       "2005  46.89429  47.98200  54.04304  52.96286  49.90636  56.38909  58.67000\n",
       "2006  65.21045  61.52850  62.88957  69.53150  70.95217  70.93182  74.35905\n",
       "2007  54.77783  59.25700  60.60182  63.95286  63.50739  67.49190  74.01773\n",
       "2008  93.00261  95.38952 105.34476 112.61864 125.65545 133.92714 133.89565\n",
       "2009  41.63091  39.06850  47.97545  49.91955  59.21524  69.62136  64.23391\n",
       "2010  78.38619  76.29900  81.25043  84.49545  73.74143  75.35364  76.15909\n",
       "2011  89.51000  89.36600 102.91609 110.04286 101.25136  96.25409  97.19381\n",
       "2012 100.14864 102.26286 106.15045 103.28429  94.50696  82.35952  87.89045\n",
       "2013  94.65261  95.29500  93.11810  92.01909  94.71870  95.78950 104.54522\n",
       "2014  94.99652 100.70400 100.57333 102.17864 102.00318 105.24190 102.98609\n",
       "2015  47.60364  50.71750  47.78364  54.20364  59.26238  59.80455  51.16174\n",
       "2016  31.70476  30.34857  37.77391  40.96286  46.84591  48.74864  44.89190\n",
       "2017  52.55955  53.40150  49.58478  51.16800  48.55957  45.16773  46.67381\n",
       "2018  63.55696  62.15000  62.86136  66.32048  69.89261  67.52286  70.99136\n",
       "2019  51.35739  54.98600  58.15381  63.87591  60.73348  54.67700  57.50870\n",
       "2020  57.71478  50.60150  29.87727  16.80727  28.79476  38.30227  40.75000\n",
       "     Aug       Sep       Oct       Nov       Dec      \n",
       "1990  27.23000  33.80000  36.13000  32.44000  27.33000\n",
       "1991  21.70000  21.86000  23.30000  22.46000  19.51000\n",
       "1992  21.31000  21.90000  21.69000  20.33000  19.42000\n",
       "1993  18.01000  17.51000  18.16000  16.68000  14.51000\n",
       "1994  18.38000  17.45000  17.70000  18.07000  17.17000\n",
       "1995  18.01000  18.22000  17.43000  18.01000  19.03000\n",
       "1996  21.94000  24.01000  24.90000  23.61000  25.37000\n",
       "1997  19.92000  19.77000  21.25000  20.10000  18.30000\n",
       "1998  13.40000  14.98000  14.42000  12.96000  11.31000\n",
       "1999  21.17000  23.52000  22.94000  25.06000  26.02000\n",
       "2000  31.31000  33.89000  33.05000  34.37000  28.40000\n",
       "2001  27.45000  25.59000  22.18000  19.59000  19.31000\n",
       "2002  28.37000  29.67000  28.85000  26.56000  29.44000\n",
       "2003  31.58381  28.43318  30.32174  31.02400  32.17870\n",
       "2004  44.92364  45.84227  53.24619  48.52045  43.27348\n",
       "2005  64.95565  65.63045  62.36381  58.29909  59.36045\n",
       "2006  73.04174  64.07476  58.85045  59.06773  61.99238\n",
       "2007  72.37826  79.61300  85.90391  94.90455  91.75905\n",
       "2008 116.64048 104.46045  76.61478  57.15100  40.64870\n",
       "2009  71.06000  69.37864  75.77227  77.95048  74.60304\n",
       "2010  76.60182  75.26000  81.89952  84.19182  89.22348\n",
       "2011  86.32130  85.61682  86.40619  97.06636  98.61227\n",
       "2012  94.11043  94.60600  89.51739  86.68955  88.19143\n",
       "2013 106.54636 106.31381 100.50043  93.81238  97.90227\n",
       "2014  96.38143  93.34909  84.40000  75.70150  59.09957\n",
       "2015  42.86333  45.48136  46.19636  42.65238  37.24130\n",
       "2016  44.74913  45.16727  49.88524  45.62318  52.01364\n",
       "2017  48.03174  49.70619  51.56455  56.71045  57.96238\n",
       "2018  67.98870  70.18550  70.75130  56.56773  48.63524\n",
       "2019  54.83909  56.85714  53.97913  57.11048  59.85773\n",
       "2020  42.36429  39.60955  39.52955  41.51619  47.09391"
      ]
     },
     "metadata": {},
     "output_type": "display_data"
    }
   ],
   "source": [
    "data(wtcrude2020)\n",
    "write.csv(wtcrude2020, file = \"wtcrude2020.csv\", row.names = FALSE)\n",
    "wtcrude2020"
   ]
  },
  {
   "cell_type": "code",
   "execution_count": 23,
   "metadata": {
    "vscode": {
     "languageId": "r"
    }
   },
   "outputs": [
    {
     "name": "stdout",
     "output_type": "stream",
     "text": [
      "36 4 40 \n"
     ]
    },
    {
     "data": {
      "image/png": "[encoded data removed]",
      "text/plain": [
       "plot without title"
      ]
     },
     "metadata": {
      "image/png": {
       "height": 480,
       "width": 660
      }
     },
     "output_type": "display_data"
    }
   ],
   "source": [
    "wtc36= window(wtcrude2020,start= c(2018,1))\n",
    "wtc36= as.numeric(wtc36)\n",
    "ma5= ma.pred.wge(wtc36,order= 5,n.ahead = 4)"
   ]
  },
  {
   "cell_type": "code",
   "execution_count": 25,
   "metadata": {
    "vscode": {
     "languageId": "r"
    }
   },
   "outputs": [
    {
     "data": {
      "image/png": "[encoded data removed]",
      "text/plain": [
       "plot without title"
      ]
     },
     "metadata": {
      "image/png": {
       "height": 480,
       "width": 660
      }
     },
     "output_type": "display_data"
    }
   ],
   "source": [
    "wtc36.exp= expsmooth.wge(wtc36,alpha= .4,n.ahead= 4)"
   ]
  },
  {
   "cell_type": "code",
   "execution_count": 26,
   "metadata": {
    "vscode": {
     "languageId": "r"
    }
   },
   "outputs": [
    {
     "data": {
      "text/html": [
       "<dl>\n",
       "\t<dt>$alpha</dt>\n",
       "\t\t<dd>0.4</dd>\n",
       "\t<dt>$u</dt>\n",
       "\t\t<dd><style>\n",
       ".list-inline {list-style: none; margin:0; padding: 0}\n",
       ".list-inline>li {display: inline-block}\n",
       ".list-inline>li:not(:last-child)::after {content: \"\\00b7\"; padding: 0 .5ex}\n",
       "</style>\n",
       "<ol class=list-inline><li>63.55695652</li><li>63.55695652</li><li>62.994173912</li><li>62.9410498032</li><li>64.29282035792</li><li>66.532735694752</li><li>66.9287842728512</li><li>68.5538160197107</li><li>68.3277678718264</li><li>69.0708607230958</li><li>69.7430381738575</li><li>64.4729138123145</li><li>58.1378435273887</li><li>55.4256626364332</li><li>55.2497975818599</li><li>56.411402357116</li><li>59.3972050502696</li><li>59.9317143341617</li><li>57.829828600497</li><li>57.7013754202982</li><li>56.5564616161789</li><li>56.6767341137074</li><li>55.5976926402244</li><li>56.2028060601347</li><li>57.6647745440808</li><li>57.6847777704485</li><li>54.8514666622691</li><li>44.8617890893615</li><li>33.6399825456169</li><li>31.7018942873701</li><li>34.3420456644221</li><li>36.9052273986532</li><li>39.0888507231919</li><li>39.2971286139152</li><li>39.3900953483491</li><li>40.2405334010095</li><li>42.9818852566057</li><li>42.9818852566057</li><li>42.9818852566057</li><li>42.9818852566057</li></ol>\n",
       "</dd>\n",
       "</dl>\n"
      ],
      "text/latex": [
       "\\begin{description}\n",
       "\\item[\\$alpha] 0.4\n",
       "\\item[\\$u] \\begin{enumerate*}\n",
       "\\item 63.55695652\n",
       "\\item 63.55695652\n",
       "\\item 62.994173912\n",
       "\\item 62.9410498032\n",
       "\\item 64.29282035792\n",
       "\\item 66.532735694752\n",
       "\\item 66.9287842728512\n",
       "\\item 68.5538160197107\n",
       "\\item 68.3277678718264\n",
       "\\item 69.0708607230958\n",
       "\\item 69.7430381738575\n",
       "\\item 64.4729138123145\n",
       "\\item 58.1378435273887\n",
       "\\item 55.4256626364332\n",
       "\\item 55.2497975818599\n",
       "\\item 56.411402357116\n",
       "\\item 59.3972050502696\n",
       "\\item 59.9317143341617\n",
       "\\item 57.829828600497\n",
       "\\item 57.7013754202982\n",
       "\\item 56.5564616161789\n",
       "\\item 56.6767341137074\n",
       "\\item 55.5976926402244\n",
       "\\item 56.2028060601347\n",
       "\\item 57.6647745440808\n",
       "\\item 57.6847777704485\n",
       "\\item 54.8514666622691\n",
       "\\item 44.8617890893615\n",
       "\\item 33.6399825456169\n",
       "\\item 31.7018942873701\n",
       "\\item 34.3420456644221\n",
       "\\item 36.9052273986532\n",
       "\\item 39.0888507231919\n",
       "\\item 39.2971286139152\n",
       "\\item 39.3900953483491\n",
       "\\item 40.2405334010095\n",
       "\\item 42.9818852566057\n",
       "\\item 42.9818852566057\n",
       "\\item 42.9818852566057\n",
       "\\item 42.9818852566057\n",
       "\\end{enumerate*}\n",
       "\n",
       "\\end{description}\n"
      ],
      "text/markdown": [
       "$alpha\n",
       ":   0.4\n",
       "$u\n",
       ":   1. 63.55695652\n",
       "2. 63.55695652\n",
       "3. 62.994173912\n",
       "4. 62.9410498032\n",
       "5. 64.29282035792\n",
       "6. 66.532735694752\n",
       "7. 66.9287842728512\n",
       "8. 68.5538160197107\n",
       "9. 68.3277678718264\n",
       "10. 69.0708607230958\n",
       "11. 69.7430381738575\n",
       "12. 64.4729138123145\n",
       "13. 58.1378435273887\n",
       "14. 55.4256626364332\n",
       "15. 55.2497975818599\n",
       "16. 56.411402357116\n",
       "17. 59.3972050502696\n",
       "18. 59.9317143341617\n",
       "19. 57.829828600497\n",
       "20. 57.7013754202982\n",
       "21. 56.5564616161789\n",
       "22. 56.6767341137074\n",
       "23. 55.5976926402244\n",
       "24. 56.2028060601347\n",
       "25. 57.6647745440808\n",
       "26. 57.6847777704485\n",
       "27. 54.8514666622691\n",
       "28. 44.8617890893615\n",
       "29. 33.6399825456169\n",
       "30. 31.7018942873701\n",
       "31. 34.3420456644221\n",
       "32. 36.9052273986532\n",
       "33. 39.0888507231919\n",
       "34. 39.2971286139152\n",
       "35. 39.3900953483491\n",
       "36. 40.2405334010095\n",
       "37. 42.9818852566057\n",
       "38. 42.9818852566057\n",
       "39. 42.9818852566057\n",
       "40. 42.9818852566057\n",
       "\n",
       "\n",
       "\n",
       "\n",
       "\n"
      ],
      "text/plain": [
       "$alpha\n",
       "[1] 0.4\n",
       "\n",
       "$u\n",
       " [1] 63.55696 63.55696 62.99417 62.94105 64.29282 66.53274 66.92878 68.55382\n",
       " [9] 68.32777 69.07086 69.74304 64.47291 58.13784 55.42566 55.24980 56.41140\n",
       "[17] 59.39721 59.93171 57.82983 57.70138 56.55646 56.67673 55.59769 56.20281\n",
       "[25] 57.66477 57.68478 54.85147 44.86179 33.63998 31.70189 34.34205 36.90523\n",
       "[33] 39.08885 39.29713 39.39010 40.24053 42.98189 42.98189 42.98189 42.98189\n"
      ]
     },
     "metadata": {},
     "output_type": "display_data"
    }
   ],
   "source": [
    "wtc36.exp"
   ]
  }
 ],
 "metadata": {
  "kernelspec": {
   "display_name": "R",
   "language": "R",
   "name": "ir"
  },
  "language_info": {
   "codemirror_mode": "r",
   "file_extension": ".r",
   "mimetype": "text/x-r-source",
   "name": "R",
   "pygments_lexer": "r",
   "version": "4.2.2"
  },
  "orig_nbformat": 4,
  "vscode": {
   "interpreter": {
    "hash": "da7bc5a059266ba9b13117aefd3a12c7dad1c8b8d51c57b8f985b845c998c40e"
   }
  }
 },
 "nbformat": 4,
 "nbformat_minor": 2
}
